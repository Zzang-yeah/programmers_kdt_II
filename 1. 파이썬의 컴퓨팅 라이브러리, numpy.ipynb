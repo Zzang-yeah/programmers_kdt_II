{
  "nbformat": 4,
  "nbformat_minor": 0,
  "metadata": {
    "kernelspec": {
      "display_name": "Python 3",
      "language": "python",
      "name": "python3"
    },
    "language_info": {
      "codemirror_mode": {
        "name": "ipython",
        "version": 3
      },
      "file_extension": ".py",
      "mimetype": "text/x-python",
      "name": "python",
      "nbconvert_exporter": "python",
      "pygments_lexer": "ipython3",
      "version": "3.9.0"
    },
    "colab": {
      "name": "1. 파이썬의 컴퓨팅 라이브러리, numpy.ipynb",
      "provenance": []
    }
  },
  "cells": [
    {
      "cell_type": "markdown",
      "metadata": {
        "id": "CWhbfSQ74l5H"
      },
      "source": [
        "# 1. 파이썬의 컴퓨팅 라이브러리, numpy\n",
        "**numpy를 이용해서 데이터를 다뤄봅시다!**"
      ]
    },
    {
      "cell_type": "markdown",
      "metadata": {
        "id": "UbGbdqEd4l5P"
      },
      "source": [
        "### Our Goal\n",
        "1. Numpy 시작하기\n",
        "    - prerequisite : Python의 List\n",
        "    - numpy import하기\n",
        "    - numpy.array\n",
        "\n",
        "2. Numpy로 연산하기\n",
        "    - Vector - Scalar : elementwise! (+, -, *, /)\n",
        "    - Vector - Vector : elementwise / broadcasting (+, -, *, /)\n",
        "    - Indexing & Slicing\n",
        "3. Example : Linear Algebra with Numpy\n",
        "    1. basics\n",
        "    - 영벡터 : `.zeros()`\n",
        "    - 일벡터 : `.ones()`\n",
        "    - 대각행렬 : `.diag()`\n",
        "    - 항등행렬 : `.eye()`\n",
        "    - 행렬곱 : `@` / `.dot()`\n",
        "  \n",
        "    2. furthermore\n",
        "    - 트레이스 : `.trace()`\n",
        "    - 행렬식 : `.linalg.det()`\n",
        "    - 역행렬 : `.linalg.inv()`\n",
        "    - 고유값 : `.linalg.eig()`\n"
      ]
    },
    {
      "cell_type": "markdown",
      "metadata": {
        "id": "-llaJDLu4l5Q"
      },
      "source": [
        "## I. Numpy 시작하기"
      ]
    },
    {
      "cell_type": "code",
      "metadata": {
        "id": "hcoHTXRm9PMA"
      },
      "source": [
        "import numpy as np"
      ],
      "execution_count": 1,
      "outputs": []
    },
    {
      "cell_type": "code",
      "metadata": {
        "id": "WE6iMvK5CwK3",
        "outputId": "d69b52ae-a498-4d38-fcd7-a435648724ef",
        "colab": {
          "base_uri": "https://localhost:8080/"
        }
      },
      "source": [
        "arr=np.array([1,2,3])\n",
        "arr"
      ],
      "execution_count": 3,
      "outputs": [
        {
          "output_type": "execute_result",
          "data": {
            "text/plain": [
              "array([1, 2, 3])"
            ]
          },
          "metadata": {
            "tags": []
          },
          "execution_count": 3
        }
      ]
    },
    {
      "cell_type": "code",
      "metadata": {
        "id": "ed07k4yPC1gn",
        "outputId": "0d518f29-f331-4c7d-ee90-07807856ad46",
        "colab": {
          "base_uri": "https://localhost:8080/"
        }
      },
      "source": [
        "arr_2d=np.array([[1,2,3],[4,5,6],[7,8,9]])\n",
        "arr_2d"
      ],
      "execution_count": 4,
      "outputs": [
        {
          "output_type": "execute_result",
          "data": {
            "text/plain": [
              "array([[1, 2, 3],\n",
              "       [4, 5, 6],\n",
              "       [7, 8, 9]])"
            ]
          },
          "metadata": {
            "tags": []
          },
          "execution_count": 4
        }
      ]
    },
    {
      "cell_type": "code",
      "metadata": {
        "id": "a0wSsxA2C-vR",
        "outputId": "59dc683b-fbf5-427b-97ec-230e8149fe5b",
        "colab": {
          "base_uri": "https://localhost:8080/"
        }
      },
      "source": [
        "arr.shape"
      ],
      "execution_count": 9,
      "outputs": [
        {
          "output_type": "execute_result",
          "data": {
            "text/plain": [
              "(3,)"
            ]
          },
          "metadata": {
            "tags": []
          },
          "execution_count": 9
        }
      ]
    },
    {
      "cell_type": "code",
      "metadata": {
        "id": "kERxpkZYDIgV",
        "outputId": "2ec4032f-ffb5-47ed-8fac-3678b4f75652",
        "colab": {
          "base_uri": "https://localhost:8080/"
        }
      },
      "source": [
        "arr_2d.shape"
      ],
      "execution_count": 10,
      "outputs": [
        {
          "output_type": "execute_result",
          "data": {
            "text/plain": [
              "(3, 3)"
            ]
          },
          "metadata": {
            "tags": []
          },
          "execution_count": 10
        }
      ]
    },
    {
      "cell_type": "markdown",
      "metadata": {
        "id": "r0hPxfye4l5R"
      },
      "source": [
        "## II. Numpy로 연산하기"
      ]
    },
    {
      "cell_type": "markdown",
      "metadata": {
        "id": "Or-Xgzt3DPPU"
      },
      "source": [
        "###Vector와 Scalar 사이의 연산\n",
        "벡터의 각 원소에 대해서 연산을 진행"
      ]
    },
    {
      "cell_type": "code",
      "metadata": {
        "id": "T9W5tUhxA36F",
        "outputId": "f488d4c0-aa86-4e42-a71c-5236dfc0b801",
        "colab": {
          "base_uri": "https://localhost:8080/"
        }
      },
      "source": [
        "x=np.array([1,2,3])\n",
        "c=5\n",
        "print(\"더하기 : {}\".format(x+c))\n",
        "print(\"빼기 : {}\".format(x-c))\n",
        "print(\"곱하기 : {}\".format(x*c))\n",
        "print(\"나누기 : {}\".format(x/c))\n"
      ],
      "execution_count": 12,
      "outputs": [
        {
          "output_type": "stream",
          "text": [
            "더하기 : [6 7 8]\n",
            "빼기 : [-4 -3 -2]\n",
            "곱하기 : [ 5 10 15]\n",
            "나누기 : [0.2 0.4 0.6]\n"
          ],
          "name": "stdout"
        }
      ]
    },
    {
      "cell_type": "markdown",
      "metadata": {
        "id": "xZIVA_TnD0US"
      },
      "source": [
        "###Vector와 Vector 사이의 연산\n",
        "벡터의 같은 인덱스끼리 연산이 진행"
      ]
    },
    {
      "cell_type": "code",
      "metadata": {
        "id": "6fj2oBgHD7pP",
        "outputId": "d977d0b4-da7c-49e0-dfa1-71999349c75f",
        "colab": {
          "base_uri": "https://localhost:8080/"
        }
      },
      "source": [
        "y=np.array([1,3,5])\n",
        "z=np.array([2,9,20])\n",
        "\n",
        "print(\"더하기 : {}\".format(y+z))\n",
        "print(\"빼기 : {}\".format(y-z))\n",
        "print(\"곱하기 : {}\".format(y*z))\n",
        "print(\"나누기 : {}\".format(y/z))"
      ],
      "execution_count": 13,
      "outputs": [
        {
          "output_type": "stream",
          "text": [
            "더하기 : [ 3 12 25]\n",
            "빼기 : [ -1  -6 -15]\n",
            "곱하기 : [  2  27 100]\n",
            "나누기 : [0.5        0.33333333 0.25      ]\n"
          ],
          "name": "stdout"
        }
      ]
    },
    {
      "cell_type": "markdown",
      "metadata": {
        "id": "DRPkP8z7EOii"
      },
      "source": [
        "###Array Indexing\n",
        "python의 리스트와 유사하게 진행"
      ]
    },
    {
      "cell_type": "code",
      "metadata": {
        "id": "4evwK0JfETEd",
        "outputId": "daa51635-718a-45fc-99b8-672047789d34",
        "colab": {
          "base_uri": "https://localhost:8080/"
        }
      },
      "source": [
        "w=np.array([[1,2,3,4],[5,6,7,8],[9,10,11,12]])\n",
        "w[0,0]"
      ],
      "execution_count": 14,
      "outputs": [
        {
          "output_type": "execute_result",
          "data": {
            "text/plain": [
              "1"
            ]
          },
          "metadata": {
            "tags": []
          },
          "execution_count": 14
        }
      ]
    },
    {
      "cell_type": "code",
      "metadata": {
        "id": "kIPZEsXdEaK-",
        "outputId": "7670692f-3d60-4249-97e3-5680d9de8092",
        "colab": {
          "base_uri": "https://localhost:8080/"
        }
      },
      "source": [
        "w[2,3]"
      ],
      "execution_count": 15,
      "outputs": [
        {
          "output_type": "execute_result",
          "data": {
            "text/plain": [
              "12"
            ]
          },
          "metadata": {
            "tags": []
          },
          "execution_count": 15
        }
      ]
    },
    {
      "cell_type": "code",
      "metadata": {
        "id": "jr6zccg-EcDG",
        "outputId": "0c8905a7-8842-4b33-9c55-a0571ab81335",
        "colab": {
          "base_uri": "https://localhost:8080/"
        }
      },
      "source": [
        "#7을 가져오려면?\n",
        "w[1,2]"
      ],
      "execution_count": 16,
      "outputs": [
        {
          "output_type": "execute_result",
          "data": {
            "text/plain": [
              "7"
            ]
          },
          "metadata": {
            "tags": []
          },
          "execution_count": 16
        }
      ]
    },
    {
      "cell_type": "markdown",
      "metadata": {
        "id": "phRaE4DCEklt"
      },
      "source": [
        "###Array Slicing\n",
        "python의 리스트와 유사하게 진행"
      ]
    },
    {
      "cell_type": "code",
      "metadata": {
        "id": "m91TatQNE2xS",
        "outputId": "e697098b-9764-429d-a42d-4f3e1a8b5e90",
        "colab": {
          "base_uri": "https://localhost:8080/"
        }
      },
      "source": [
        "w[0:2,1:3]"
      ],
      "execution_count": 19,
      "outputs": [
        {
          "output_type": "execute_result",
          "data": {
            "text/plain": [
              "array([[2, 3],\n",
              "       [6, 7]])"
            ]
          },
          "metadata": {
            "tags": []
          },
          "execution_count": 19
        }
      ]
    },
    {
      "cell_type": "code",
      "metadata": {
        "id": "WE8mHcMwErkH",
        "outputId": "35ea0fa0-cde5-45bb-c25c-c6e58e52e432",
        "colab": {
          "base_uri": "https://localhost:8080/"
        }
      },
      "source": [
        "w[0:2,0:4]"
      ],
      "execution_count": 17,
      "outputs": [
        {
          "output_type": "execute_result",
          "data": {
            "text/plain": [
              "array([[1, 2, 3, 4],\n",
              "       [5, 6, 7, 8]])"
            ]
          },
          "metadata": {
            "tags": []
          },
          "execution_count": 17
        }
      ]
    },
    {
      "cell_type": "code",
      "metadata": {
        "id": "4RilMCtuExlL",
        "outputId": "e09d7db3-2a21-46d4-b065-9883405051f4",
        "colab": {
          "base_uri": "https://localhost:8080/"
        }
      },
      "source": [
        "w[0:2]"
      ],
      "execution_count": 18,
      "outputs": [
        {
          "output_type": "execute_result",
          "data": {
            "text/plain": [
              "array([[1, 2, 3, 4],\n",
              "       [5, 6, 7, 8]])"
            ]
          },
          "metadata": {
            "tags": []
          },
          "execution_count": 18
        }
      ]
    },
    {
      "cell_type": "code",
      "metadata": {
        "id": "HGHNk19_E-Qu",
        "outputId": "e2693771-5761-4fbe-8f5f-fe844f9eb842",
        "colab": {
          "base_uri": "https://localhost:8080/"
        }
      },
      "source": [
        "w[0:2,:]"
      ],
      "execution_count": 20,
      "outputs": [
        {
          "output_type": "execute_result",
          "data": {
            "text/plain": [
              "array([[1, 2, 3, 4],\n",
              "       [5, 6, 7, 8]])"
            ]
          },
          "metadata": {
            "tags": []
          },
          "execution_count": 20
        }
      ]
    },
    {
      "cell_type": "code",
      "metadata": {
        "id": "ZJr1Rj10FAnq",
        "outputId": "d0469f78-f454-4daa-d14f-27f1b1a0e3d5",
        "colab": {
          "base_uri": "https://localhost:8080/"
        }
      },
      "source": [
        "w[0:3,]"
      ],
      "execution_count": 21,
      "outputs": [
        {
          "output_type": "execute_result",
          "data": {
            "text/plain": [
              "array([[ 1,  2,  3,  4],\n",
              "       [ 5,  6,  7,  8],\n",
              "       [ 9, 10, 11, 12]])"
            ]
          },
          "metadata": {
            "tags": []
          },
          "execution_count": 21
        }
      ]
    },
    {
      "cell_type": "code",
      "metadata": {
        "id": "6mp9YYaIFIps",
        "outputId": "046a161d-ce59-4ec5-fa1b-7d29b55a13c6",
        "colab": {
          "base_uri": "https://localhost:8080/"
        }
      },
      "source": [
        "w[0:3,2:4]"
      ],
      "execution_count": 22,
      "outputs": [
        {
          "output_type": "execute_result",
          "data": {
            "text/plain": [
              "array([[ 3,  4],\n",
              "       [ 7,  8],\n",
              "       [11, 12]])"
            ]
          },
          "metadata": {
            "tags": []
          },
          "execution_count": 22
        }
      ]
    },
    {
      "cell_type": "code",
      "metadata": {
        "id": "83qdRurDFK1w",
        "outputId": "2d987c2a-c771-42d8-a060-2c86af9a953b",
        "colab": {
          "base_uri": "https://localhost:8080/"
        }
      },
      "source": [
        "w[:,2:4]"
      ],
      "execution_count": 23,
      "outputs": [
        {
          "output_type": "execute_result",
          "data": {
            "text/plain": [
              "array([[ 3,  4],\n",
              "       [ 7,  8],\n",
              "       [11, 12]])"
            ]
          },
          "metadata": {
            "tags": []
          },
          "execution_count": 23
        }
      ]
    },
    {
      "cell_type": "markdown",
      "metadata": {
        "id": "9FA72XzJHeWZ"
      },
      "source": [
        "###Array Broadcasting\n",
        "기본적으로 같은 Type의 data에 대해서만 연산이 적용 가능     \n",
        "하지만 만약에 피연산자가 연산 가능하도록 변환이 가능하다면 연산이 가능    \n",
        "이를 **broadcasting**이라고 함"
      ]
    },
    {
      "cell_type": "markdown",
      "metadata": {
        "id": "I1AZJqkEHwDs"
      },
      "source": [
        "###1.M by N, M by 1"
      ]
    },
    {
      "cell_type": "code",
      "metadata": {
        "id": "URBl1HgFFNoA",
        "outputId": "4dbfe558-371a-410f-9081-c81d9492b3fb",
        "colab": {
          "base_uri": "https://localhost:8080/"
        }
      },
      "source": [
        "a=np.array([[1,2,3],[4,5,6],[7,8,9]])\n",
        "x=np.array([0,1,0])\n",
        "\n",
        "x=x[:,None] #x를 전치\n",
        "print(x)\n",
        "print(a+x)"
      ],
      "execution_count": 25,
      "outputs": [
        {
          "output_type": "stream",
          "text": [
            "[[0]\n",
            " [1]\n",
            " [0]]\n",
            "[[1 2 3]\n",
            " [5 6 7]\n",
            " [7 8 9]]\n"
          ],
          "name": "stdout"
        }
      ]
    },
    {
      "cell_type": "markdown",
      "metadata": {
        "id": "scK4UuNIHvTN"
      },
      "source": [
        "###2.M by N, 1 by N"
      ]
    },
    {
      "cell_type": "code",
      "metadata": {
        "id": "gaOv5EZbIYXq",
        "outputId": "7b8a5613-6ad0-4637-d99d-017f0920a356",
        "colab": {
          "base_uri": "https://localhost:8080/"
        }
      },
      "source": [
        "y=np.array([0,1,-1])\n",
        "print(a*y)"
      ],
      "execution_count": 26,
      "outputs": [
        {
          "output_type": "stream",
          "text": [
            "[[ 0  2 -3]\n",
            " [ 0  5 -6]\n",
            " [ 0  8 -9]]\n"
          ],
          "name": "stdout"
        }
      ]
    },
    {
      "cell_type": "markdown",
      "metadata": {
        "id": "pVdJRGNpIhOS"
      },
      "source": [
        "###3.M by 1, 1 by N"
      ]
    },
    {
      "cell_type": "code",
      "metadata": {
        "id": "Mk_wHsk9JtI-",
        "outputId": "12a9a198-8bc0-4b08-a5ab-304c3755856d",
        "colab": {
          "base_uri": "https://localhost:8080/",
          "height": 92
        }
      },
      "source": [
        "t=np.array([1,2,3]) #열벡터로 바꿔줘야함\n",
        "t=t[:,None] #Transpose\n",
        "\n",
        "u=np.array([2,0,-2])\n",
        "\n",
        "print(t+u)\n",
        "'''\n",
        "1 1 1   2 0 -2\n",
        "2 2 2 + 2 0 -2\n",
        "3 3 3   2 0 -2\n",
        "'''"
      ],
      "execution_count": 28,
      "outputs": [
        {
          "output_type": "stream",
          "text": [
            "[[ 3  1 -1]\n",
            " [ 4  2  0]\n",
            " [ 5  3  1]]\n"
          ],
          "name": "stdout"
        },
        {
          "output_type": "execute_result",
          "data": {
            "application/vnd.google.colaboratory.intrinsic+json": {
              "type": "string"
            },
            "text/plain": [
              "'\\n1 1 1   2 0 -2\\n2 2 2 + 2 0 -2\\n3 3 3   2 0 -2\\n'"
            ]
          },
          "metadata": {
            "tags": []
          },
          "execution_count": 28
        }
      ]
    },
    {
      "cell_type": "markdown",
      "metadata": {
        "id": "h2MDEvEM4l5R"
      },
      "source": [
        "## III. Numpy로 선형대수 지식 끼얹기\n",
        "\n"
      ]
    },
    {
      "cell_type": "markdown",
      "metadata": {
        "id": "Hl7YaK1gJ-g_"
      },
      "source": [
        "##A.basis\n",
        "###영벡터(행렬)\n",
        "\n",
        "\n",
        "*   원소가 모두 0인 벡터(행렬)\n",
        "*   np.zeros(dim)을 통해 생성, dim은 값, 혹은 튜플(,)\n",
        "\n"
      ]
    },
    {
      "cell_type": "code",
      "metadata": {
        "id": "92UWS3s8KNi-",
        "outputId": "e0c98a79-f872-47f1-a792-51f7a69e89c7",
        "colab": {
          "base_uri": "https://localhost:8080/"
        }
      },
      "source": [
        "np.zeros(1)"
      ],
      "execution_count": 29,
      "outputs": [
        {
          "output_type": "execute_result",
          "data": {
            "text/plain": [
              "array([0.])"
            ]
          },
          "metadata": {
            "tags": []
          },
          "execution_count": 29
        }
      ]
    },
    {
      "cell_type": "code",
      "metadata": {
        "id": "upQtl31YKS0S",
        "outputId": "c3c530db-962d-416f-df12-d231bd74e385",
        "colab": {
          "base_uri": "https://localhost:8080/"
        }
      },
      "source": [
        "np.zeros(3)"
      ],
      "execution_count": 30,
      "outputs": [
        {
          "output_type": "execute_result",
          "data": {
            "text/plain": [
              "array([0., 0., 0.])"
            ]
          },
          "metadata": {
            "tags": []
          },
          "execution_count": 30
        }
      ]
    },
    {
      "cell_type": "code",
      "metadata": {
        "id": "CdNki0InKSjM",
        "outputId": "7d3ead6a-09f8-4f70-a9a2-3dd8e9624636",
        "colab": {
          "base_uri": "https://localhost:8080/"
        }
      },
      "source": [
        "np.zeros((3,3,3))"
      ],
      "execution_count": 31,
      "outputs": [
        {
          "output_type": "execute_result",
          "data": {
            "text/plain": [
              "array([[[0., 0., 0.],\n",
              "        [0., 0., 0.],\n",
              "        [0., 0., 0.]],\n",
              "\n",
              "       [[0., 0., 0.],\n",
              "        [0., 0., 0.],\n",
              "        [0., 0., 0.]],\n",
              "\n",
              "       [[0., 0., 0.],\n",
              "        [0., 0., 0.],\n",
              "        [0., 0., 0.]]])"
            ]
          },
          "metadata": {
            "tags": []
          },
          "execution_count": 31
        }
      ]
    },
    {
      "cell_type": "markdown",
      "metadata": {
        "id": "dvsBVVWgKbO6"
      },
      "source": [
        "###일벡터(행렬)\n",
        "\n",
        "\n",
        "*   원소가 모두 1인 벡터(행렬)\n",
        "*   np.ones(dim)을 통해 생성, dim은 값, 튜플(,)\n",
        "\n"
      ]
    },
    {
      "cell_type": "code",
      "metadata": {
        "id": "nPgHSrWdKjTw",
        "outputId": "06f952f2-54e3-4d7f-836b-b4a1da368713",
        "colab": {
          "base_uri": "https://localhost:8080/"
        }
      },
      "source": [
        "np.ones(2)"
      ],
      "execution_count": 32,
      "outputs": [
        {
          "output_type": "execute_result",
          "data": {
            "text/plain": [
              "array([1., 1.])"
            ]
          },
          "metadata": {
            "tags": []
          },
          "execution_count": 32
        }
      ]
    },
    {
      "cell_type": "code",
      "metadata": {
        "id": "ATkPUd1KKmH0",
        "outputId": "7e29491f-3305-4a58-973f-e8bafb5c686f",
        "colab": {
          "base_uri": "https://localhost:8080/"
        }
      },
      "source": [
        "np.ones((3,3))"
      ],
      "execution_count": 33,
      "outputs": [
        {
          "output_type": "execute_result",
          "data": {
            "text/plain": [
              "array([[1., 1., 1.],\n",
              "       [1., 1., 1.],\n",
              "       [1., 1., 1.]])"
            ]
          },
          "metadata": {
            "tags": []
          },
          "execution_count": 33
        }
      ]
    },
    {
      "cell_type": "markdown",
      "metadata": {
        "id": "2NSPTkAYKs9r"
      },
      "source": [
        "###대각행렬\n",
        "\n",
        "\n",
        "*   Main Diagonal을 제외한 성분이 0인 행렬\n",
        "*   np.diag((main_diagonals))을 통해 생성할 수 있음\n",
        "\n"
      ]
    },
    {
      "cell_type": "code",
      "metadata": {
        "id": "Ax8kD-1-K2yt",
        "outputId": "ba12e96b-7900-4d66-9e0c-7d5db22517a8",
        "colab": {
          "base_uri": "https://localhost:8080/"
        }
      },
      "source": [
        "np.diag((2,4))"
      ],
      "execution_count": 34,
      "outputs": [
        {
          "output_type": "execute_result",
          "data": {
            "text/plain": [
              "array([[2, 0],\n",
              "       [0, 4]])"
            ]
          },
          "metadata": {
            "tags": []
          },
          "execution_count": 34
        }
      ]
    },
    {
      "cell_type": "code",
      "metadata": {
        "id": "P1dp8uScK5Bf",
        "outputId": "d68a736c-dd7d-4784-cddb-f6d44aa1f6f9",
        "colab": {
          "base_uri": "https://localhost:8080/"
        }
      },
      "source": [
        "np.diag((1,3,5))"
      ],
      "execution_count": 35,
      "outputs": [
        {
          "output_type": "execute_result",
          "data": {
            "text/plain": [
              "array([[1, 0, 0],\n",
              "       [0, 3, 0],\n",
              "       [0, 0, 5]])"
            ]
          },
          "metadata": {
            "tags": []
          },
          "execution_count": 35
        }
      ]
    },
    {
      "cell_type": "markdown",
      "metadata": {
        "id": "Q6siJLQCK-ND"
      },
      "source": [
        "###항등행렬\n",
        "\n",
        "*   main diagonal==1인 diagonal matrix(대각 행렬)\n",
        "*   np.eye(n,(dtype=int,uint,float, complex, ...))를 사용\n",
        "\n"
      ]
    },
    {
      "cell_type": "code",
      "metadata": {
        "id": "ER5nGxqGK8bt",
        "outputId": "950f36d5-773b-4d2b-855b-8d4b370d6dae",
        "colab": {
          "base_uri": "https://localhost:8080/"
        }
      },
      "source": [
        "np.eye(2,dtype=int)"
      ],
      "execution_count": 36,
      "outputs": [
        {
          "output_type": "execute_result",
          "data": {
            "text/plain": [
              "array([[1, 0],\n",
              "       [0, 1]])"
            ]
          },
          "metadata": {
            "tags": []
          },
          "execution_count": 36
        }
      ]
    },
    {
      "cell_type": "code",
      "metadata": {
        "id": "YGiQMcizLMZ3",
        "outputId": "07abf625-3704-4946-e8bc-270f66948d54",
        "colab": {
          "base_uri": "https://localhost:8080/"
        }
      },
      "source": [
        "np.eye(3)"
      ],
      "execution_count": 37,
      "outputs": [
        {
          "output_type": "execute_result",
          "data": {
            "text/plain": [
              "array([[1., 0., 0.],\n",
              "       [0., 1., 0.],\n",
              "       [0., 0., 1.]])"
            ]
          },
          "metadata": {
            "tags": []
          },
          "execution_count": 37
        }
      ]
    },
    {
      "cell_type": "markdown",
      "metadata": {
        "id": "feCRG88ZLVTX"
      },
      "source": [
        " ###행렬곱\n",
        "\n",
        "\n",
        "*   행렬 간에 정의되는 곱 연산(dot product)\n",
        "*   np.dot(), @를 사용\n",
        "\n"
      ]
    },
    {
      "cell_type": "code",
      "metadata": {
        "id": "eA3KEQguR_gw",
        "outputId": "b67d8acd-9011-4ce2-b41c-466a64a434d7",
        "colab": {
          "base_uri": "https://localhost:8080/"
        }
      },
      "source": [
        "mat_1=np.array([[1,4],[2,3]])\n",
        "mat_2=np.array([[7,9],[0,6]])\n",
        "\n",
        "mat_1.dot(mat_2)"
      ],
      "execution_count": 38,
      "outputs": [
        {
          "output_type": "execute_result",
          "data": {
            "text/plain": [
              "array([[ 7, 33],\n",
              "       [14, 36]])"
            ]
          },
          "metadata": {
            "tags": []
          },
          "execution_count": 38
        }
      ]
    },
    {
      "cell_type": "code",
      "metadata": {
        "id": "eS89xgqESHtu",
        "outputId": "624ab234-5ace-422d-acb5-d981f05ef3e2",
        "colab": {
          "base_uri": "https://localhost:8080/"
        }
      },
      "source": [
        "mat_1@mat_2"
      ],
      "execution_count": 39,
      "outputs": [
        {
          "output_type": "execute_result",
          "data": {
            "text/plain": [
              "array([[ 7, 33],\n",
              "       [14, 36]])"
            ]
          },
          "metadata": {
            "tags": []
          },
          "execution_count": 39
        }
      ]
    },
    {
      "cell_type": "markdown",
      "metadata": {
        "id": "gER1F5mYSKuA"
      },
      "source": [
        "##B. Furthermore\n",
        "###트레이스\n",
        "\n",
        "\n",
        "*   Main Diagonal의 Sum\n",
        "*   np.trace()을 사용\n",
        "\n",
        "\n"
      ]
    },
    {
      "cell_type": "code",
      "metadata": {
        "id": "3u98NzCLSa5r",
        "outputId": "dde2ea14-8639-43c7-9fa8-86343f4066d2",
        "colab": {
          "base_uri": "https://localhost:8080/"
        }
      },
      "source": [
        "arr=np.array([[1,2,3],[4,5,6],[7,8,9]])\n",
        "arr"
      ],
      "execution_count": 40,
      "outputs": [
        {
          "output_type": "execute_result",
          "data": {
            "text/plain": [
              "array([[1, 2, 3],\n",
              "       [4, 5, 6],\n",
              "       [7, 8, 9]])"
            ]
          },
          "metadata": {
            "tags": []
          },
          "execution_count": 40
        }
      ]
    },
    {
      "cell_type": "code",
      "metadata": {
        "id": "p_2FCjsQSjmp",
        "outputId": "a6952bd0-c6ac-4edc-c075-dae813a2c0c6",
        "colab": {
          "base_uri": "https://localhost:8080/"
        }
      },
      "source": [
        "arr.trace()"
      ],
      "execution_count": 41,
      "outputs": [
        {
          "output_type": "execute_result",
          "data": {
            "text/plain": [
              "15"
            ]
          },
          "metadata": {
            "tags": []
          },
          "execution_count": 41
        }
      ]
    },
    {
      "cell_type": "code",
      "metadata": {
        "id": "aHlDMDpuSlIp",
        "outputId": "994a3f7a-4b98-4e56-96f0-22d6f5f1c30c",
        "colab": {
          "base_uri": "https://localhost:8080/"
        }
      },
      "source": [
        "np.eye(2, dtype=int).trace()"
      ],
      "execution_count": 42,
      "outputs": [
        {
          "output_type": "execute_result",
          "data": {
            "text/plain": [
              "2"
            ]
          },
          "metadata": {
            "tags": []
          },
          "execution_count": 42
        }
      ]
    },
    {
      "cell_type": "markdown",
      "metadata": {
        "id": "zQscWVjiSutq"
      },
      "source": [
        "###행렬식\n",
        "\n",
        "\n",
        "*   행렬을 대표하는 값 중 하나\n",
        "*   선형변환 과정에서 Vector의 Scailing 척도\n",
        "*   np.linalg.det()으로 계산\n",
        "\n"
      ]
    },
    {
      "cell_type": "code",
      "metadata": {
        "id": "edsRfF9sS5Ld",
        "outputId": "45653490-d3af-465e-efc0-a8ca4b79f740",
        "colab": {
          "base_uri": "https://localhost:8080/"
        }
      },
      "source": [
        "arr_2=np.array([[2,3],[1,6]])\n",
        "arr_2"
      ],
      "execution_count": 43,
      "outputs": [
        {
          "output_type": "execute_result",
          "data": {
            "text/plain": [
              "array([[2, 3],\n",
              "       [1, 6]])"
            ]
          },
          "metadata": {
            "tags": []
          },
          "execution_count": 43
        }
      ]
    },
    {
      "cell_type": "code",
      "metadata": {
        "id": "-aOYfppjS-Xf",
        "outputId": "cb8648ab-4de3-4ffd-fb0e-23772d4f72ef",
        "colab": {
          "base_uri": "https://localhost:8080/"
        }
      },
      "source": [
        "np.linalg.det(arr_2)"
      ],
      "execution_count": 44,
      "outputs": [
        {
          "output_type": "execute_result",
          "data": {
            "text/plain": [
              "9.000000000000002"
            ]
          },
          "metadata": {
            "tags": []
          },
          "execution_count": 44
        }
      ]
    },
    {
      "cell_type": "code",
      "metadata": {
        "id": "mtoFW70bTBZ1",
        "outputId": "41dddf08-2f9e-46d4-ee10-4f688083b8fb",
        "colab": {
          "base_uri": "https://localhost:8080/"
        }
      },
      "source": [
        "arr_3=np.array([[1,4,7],[2,5,8],[3,6,9]])\n",
        "arr_3"
      ],
      "execution_count": 45,
      "outputs": [
        {
          "output_type": "execute_result",
          "data": {
            "text/plain": [
              "array([[1, 4, 7],\n",
              "       [2, 5, 8],\n",
              "       [3, 6, 9]])"
            ]
          },
          "metadata": {
            "tags": []
          },
          "execution_count": 45
        }
      ]
    },
    {
      "cell_type": "code",
      "metadata": {
        "id": "CmK-R6ntTGE_",
        "outputId": "a22a7034-0ef9-4a04-8ac6-62c779916f9b",
        "colab": {
          "base_uri": "https://localhost:8080/"
        }
      },
      "source": [
        "np.linalg.det(arr_3)"
      ],
      "execution_count": 46,
      "outputs": [
        {
          "output_type": "execute_result",
          "data": {
            "text/plain": [
              "0.0"
            ]
          },
          "metadata": {
            "tags": []
          },
          "execution_count": 46
        }
      ]
    },
    {
      "cell_type": "markdown",
      "metadata": {
        "id": "A9Z167GyTMC1"
      },
      "source": [
        "###역행렬\n",
        "\n",
        "\n",
        "*   행렬 A에 대해서 AB=BA=I를 만족하는 행렬 B\n",
        "*   np.linalg.inv()을 사용\n",
        "\n"
      ]
    },
    {
      "cell_type": "code",
      "metadata": {
        "id": "Eiy0qxz3TWwb",
        "outputId": "a1c484e8-abe9-4bcc-de46-8c52178405bd",
        "colab": {
          "base_uri": "https://localhost:8080/"
        }
      },
      "source": [
        "mat=np.array([[1,4],[2,3]])\n",
        "mat"
      ],
      "execution_count": 47,
      "outputs": [
        {
          "output_type": "execute_result",
          "data": {
            "text/plain": [
              "array([[1, 4],\n",
              "       [2, 3]])"
            ]
          },
          "metadata": {
            "tags": []
          },
          "execution_count": 47
        }
      ]
    },
    {
      "cell_type": "code",
      "metadata": {
        "id": "FiWw0a2yTbSK",
        "outputId": "06ee1f0f-8563-4e15-fe6b-d05e6a658ab5",
        "colab": {
          "base_uri": "https://localhost:8080/"
        }
      },
      "source": [
        "mat_inv=np.linalg.inv(mat)\n",
        "mat_inv"
      ],
      "execution_count": 48,
      "outputs": [
        {
          "output_type": "execute_result",
          "data": {
            "text/plain": [
              "array([[-0.6,  0.8],\n",
              "       [ 0.4, -0.2]])"
            ]
          },
          "metadata": {
            "tags": []
          },
          "execution_count": 48
        }
      ]
    },
    {
      "cell_type": "code",
      "metadata": {
        "id": "V6aWkQVWThPQ",
        "outputId": "4b5a0990-c649-4b58-a5b5-41f5406eddfc",
        "colab": {
          "base_uri": "https://localhost:8080/"
        }
      },
      "source": [
        "mat @ mat_inv"
      ],
      "execution_count": 49,
      "outputs": [
        {
          "output_type": "execute_result",
          "data": {
            "text/plain": [
              "array([[ 1.00000000e+00,  0.00000000e+00],\n",
              "       [-1.11022302e-16,  1.00000000e+00]])"
            ]
          },
          "metadata": {
            "tags": []
          },
          "execution_count": 49
        }
      ]
    },
    {
      "cell_type": "markdown",
      "metadata": {
        "id": "yGDL1_20TpXa"
      },
      "source": [
        "###고유값과 고유벡터\n",
        "\n",
        "\n",
        "*   정방행렬(nxn) A에 대해서 Ax=λx를 만족하는 λ와 x를 각각 고유값과 고유 벡터라고 한다\n",
        "*   np.linalg.eig() 로 계산\n",
        "\n"
      ]
    },
    {
      "cell_type": "code",
      "metadata": {
        "id": "1CPMqg4VTrgs",
        "outputId": "40e847bb-0965-4a87-ab36-dcc57650d298",
        "colab": {
          "base_uri": "https://localhost:8080/"
        }
      },
      "source": [
        "mat=np.array([[2,0,-2],[1,1,-2],[0,0,1]])\n",
        "mat"
      ],
      "execution_count": 50,
      "outputs": [
        {
          "output_type": "execute_result",
          "data": {
            "text/plain": [
              "array([[ 2,  0, -2],\n",
              "       [ 1,  1, -2],\n",
              "       [ 0,  0,  1]])"
            ]
          },
          "metadata": {
            "tags": []
          },
          "execution_count": 50
        }
      ]
    },
    {
      "cell_type": "code",
      "metadata": {
        "id": "YPWJHUgHUN4k",
        "outputId": "deb5d2e4-6ba9-4ba9-efc4-6823dccf9a80",
        "colab": {
          "base_uri": "https://localhost:8080/"
        }
      },
      "source": [
        "np.linalg.eig(mat)"
      ],
      "execution_count": 51,
      "outputs": [
        {
          "output_type": "execute_result",
          "data": {
            "text/plain": [
              "(array([1., 2., 1.]), array([[0.        , 0.70710678, 0.89442719],\n",
              "        [1.        , 0.70710678, 0.        ],\n",
              "        [0.        , 0.        , 0.4472136 ]]))"
            ]
          },
          "metadata": {
            "tags": []
          },
          "execution_count": 51
        }
      ]
    },
    {
      "cell_type": "markdown",
      "metadata": {
        "id": "Br3x3wS0UR7o"
      },
      "source": [
        "validation"
      ]
    },
    {
      "cell_type": "code",
      "metadata": {
        "id": "gjnxFa38UQf-",
        "outputId": "0404695c-1a34-4007-f1ae-85a6e7623237",
        "colab": {
          "base_uri": "https://localhost:8080/"
        }
      },
      "source": [
        "eig_val, eig_vec=np.linalg.eig(mat)\n",
        "eig_val"
      ],
      "execution_count": 52,
      "outputs": [
        {
          "output_type": "execute_result",
          "data": {
            "text/plain": [
              "array([1., 2., 1.])"
            ]
          },
          "metadata": {
            "tags": []
          },
          "execution_count": 52
        }
      ]
    },
    {
      "cell_type": "code",
      "metadata": {
        "id": "dOrn2zgJUbD6",
        "outputId": "90388c13-d467-4b3c-ac59-b93a23be12b5",
        "colab": {
          "base_uri": "https://localhost:8080/"
        }
      },
      "source": [
        "eig_vec"
      ],
      "execution_count": 53,
      "outputs": [
        {
          "output_type": "execute_result",
          "data": {
            "text/plain": [
              "array([[0.        , 0.70710678, 0.89442719],\n",
              "       [1.        , 0.70710678, 0.        ],\n",
              "       [0.        , 0.        , 0.4472136 ]])"
            ]
          },
          "metadata": {
            "tags": []
          },
          "execution_count": 53
        }
      ]
    },
    {
      "cell_type": "code",
      "metadata": {
        "id": "lPdn4i3xUc0b",
        "outputId": "e69e2712-f458-40df-87b2-52f89487ad08",
        "colab": {
          "base_uri": "https://localhost:8080/"
        }
      },
      "source": [
        "mat@eig_vec[:,0]  #Ax"
      ],
      "execution_count": 54,
      "outputs": [
        {
          "output_type": "execute_result",
          "data": {
            "text/plain": [
              "array([0., 1., 0.])"
            ]
          },
          "metadata": {
            "tags": []
          },
          "execution_count": 54
        }
      ]
    },
    {
      "cell_type": "code",
      "metadata": {
        "id": "BUP5qCzvUhcT",
        "outputId": "6ce2e595-a75b-4aa2-9638-3f4be175d834",
        "colab": {
          "base_uri": "https://localhost:8080/"
        }
      },
      "source": [
        "eig_val[0]*eig_vec[:,0]#(lambda)x"
      ],
      "execution_count": 55,
      "outputs": [
        {
          "output_type": "execute_result",
          "data": {
            "text/plain": [
              "array([0., 1., 0.])"
            ]
          },
          "metadata": {
            "tags": []
          },
          "execution_count": 55
        }
      ]
    },
    {
      "cell_type": "markdown",
      "metadata": {
        "id": "8DQDSBEL4l5R"
      },
      "source": [
        "## IV. Mission:"
      ]
    },
    {
      "cell_type": "markdown",
      "metadata": {
        "id": "0XEMPTt24l5S"
      },
      "source": [
        "### 1. 어떤 벡터가 주어졌을 때 L2 norm을 구하는 함수 `get_L2_norm()`을 작성하세요\n",
        "\n",
        "- **매개변수** : 1차원 벡터 (`np.array`)\n",
        "- **반환값** : 인자로 주어진 벡터의 L2 Norm값 (`number`)"
      ]
    },
    {
      "cell_type": "code",
      "metadata": {
        "id": "IqHOSjjN4l5S",
        "outputId": "1768bbee-bd76-46ef-f46f-2895a26ad622",
        "colab": {
          "base_uri": "https://localhost:8080/"
        }
      },
      "source": [
        "def get_L2_norm(mat):\n",
        "  return np.linalg.norm(mat,2)\n",
        "\n",
        "print(get_L2_norm(np.array([1,2,3,4])))"
      ],
      "execution_count": 56,
      "outputs": [
        {
          "output_type": "stream",
          "text": [
            "5.477225575051661\n"
          ],
          "name": "stdout"
        }
      ]
    },
    {
      "cell_type": "markdown",
      "metadata": {
        "id": "RZTvKcbN4l5T"
      },
      "source": [
        "### 2. 어떤 행렬이 singular matrix인지 확인하는 함수 `is_singular()` 를 작성하세요\n",
        "\n",
        "- 매개변수 : 2차원 벡터(`np.array`)\n",
        "- 반환값 : 인자로 주어진 벡터가 singular하면 True, non-singular하면 False를 반환 "
      ]
    },
    {
      "cell_type": "code",
      "metadata": {
        "id": "rW_jgRIo4l5T",
        "outputId": "f15c68c5-3bd5-4833-ac6c-7e57e963390b",
        "colab": {
          "base_uri": "https://localhost:8080/"
        }
      },
      "source": [
        "def is_singular(mat):\n",
        "  if np.linalg.det(mat)==0:\n",
        "    return True\n",
        "  else:\n",
        "    return False\n",
        "\n",
        "print(is_singular(np.array([[1,2],[3,4]])))"
      ],
      "execution_count": 60,
      "outputs": [
        {
          "output_type": "stream",
          "text": [
            "False\n"
          ],
          "name": "stdout"
        }
      ]
    }
  ]
}