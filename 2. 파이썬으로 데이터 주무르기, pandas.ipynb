{
  "nbformat": 4,
  "nbformat_minor": 0,
  "metadata": {
    "kernelspec": {
      "display_name": "Python 3",
      "language": "python",
      "name": "python3"
    },
    "language_info": {
      "codemirror_mode": {
        "name": "ipython",
        "version": 3
      },
      "file_extension": ".py",
      "mimetype": "text/x-python",
      "name": "python",
      "nbconvert_exporter": "python",
      "pygments_lexer": "ipython3",
      "version": "3.9.0"
    },
    "colab": {
      "name": "2. 파이썬으로 데이터 주무르기, pandas.ipynb",
      "provenance": [],
      "toc_visible": true
    }
  },
  "cells": [
    {
      "cell_type": "markdown",
      "metadata": {
        "id": "PCcgLjB4MPC7"
      },
      "source": [
        "# 2. 파이썬으로 데이터 주무르기, pandas\n",
        "**pandas를 활용해서 데이터프레임을 다뤄봅시다.**"
      ]
    },
    {
      "cell_type": "markdown",
      "metadata": {
        "id": "70e_j8aBMPDD"
      },
      "source": [
        "1. Pandas 시작하기\n",
        "    - prerequisite : Table\n",
        "    - pandas import하기\n",
        "   \n",
        "2. Pandas로 1차원 데이터 다루기 - Series \n",
        "    - Series 선언하기\n",
        "    - Series vs ndarray\n",
        "    - Series vs dict\n",
        "    - Series에 이름 붙이기\n",
        "3. Pandas로 2차원 데이터 다루기 - dataframe\n",
        "    - dataframe 선언하기\n",
        "    - csv 파일을 dataframe으로! : `to_csv()`\n",
        "    - dataframe 자료 접근하기\n",
        "    - dataframe 정모하기 : `.groupby()`\n",
        "    - dataframe 합치기 : `.merge()` \n",
        "\n",
        "[수업에 사용된 covid 데이터](https://www.kaggle.com/imdevskp/corona-virus-report)"
      ]
    },
    {
      "cell_type": "markdown",
      "metadata": {
        "id": "RUuUJTWCMPDE"
      },
      "source": [
        "## I. pandas 시작하기"
      ]
    },
    {
      "cell_type": "code",
      "metadata": {
        "id": "MO4eoojcNLKt"
      },
      "source": [
        "import pandas as pd"
      ],
      "execution_count": 1,
      "outputs": []
    },
    {
      "cell_type": "markdown",
      "metadata": {
        "id": "qwrrRKN4MPDE"
      },
      "source": [
        "## II. pandas로 1차원 데이터 다루기 - Series"
      ]
    },
    {
      "cell_type": "markdown",
      "metadata": {
        "id": "jzx_sI0gNSUI"
      },
      "source": [
        "##Series?\n",
        "\n",
        "\n",
        "*   1-D labeled **array**\n",
        "*   인덱스를 지정해줄 수 있음\n",
        "\n"
      ]
    },
    {
      "cell_type": "code",
      "metadata": {
        "id": "lAy4Xl9eNedx",
        "outputId": "0d2aa9be-8da6-4a60-9aea-1a93f9170818",
        "colab": {
          "base_uri": "https://localhost:8080/"
        }
      },
      "source": [
        "s=pd.Series([1,4,9,16,25])\n",
        "s"
      ],
      "execution_count": 2,
      "outputs": [
        {
          "output_type": "execute_result",
          "data": {
            "text/plain": [
              "0     1\n",
              "1     4\n",
              "2     9\n",
              "3    16\n",
              "4    25\n",
              "dtype: int64"
            ]
          },
          "metadata": {
            "tags": []
          },
          "execution_count": 2
        }
      ]
    },
    {
      "cell_type": "code",
      "metadata": {
        "id": "VTia9VBGNlfp",
        "outputId": "5f5f2899-6680-4fbc-e43c-13d79bc18fa5",
        "colab": {
          "base_uri": "https://localhost:8080/"
        }
      },
      "source": [
        "t=pd.Series({'one':1,'two':2,'three':3,'four':4,'five':5})\n",
        "t"
      ],
      "execution_count": 3,
      "outputs": [
        {
          "output_type": "execute_result",
          "data": {
            "text/plain": [
              "one      1\n",
              "two      2\n",
              "three    3\n",
              "four     4\n",
              "five     5\n",
              "dtype: int64"
            ]
          },
          "metadata": {
            "tags": []
          },
          "execution_count": 3
        }
      ]
    },
    {
      "cell_type": "markdown",
      "metadata": {
        "id": "xKARJPFyQNQ5"
      },
      "source": [
        "##Series+Numpy\n",
        "\n",
        "\n",
        "*   Series는 ndarray와 유사\n",
        "\n"
      ]
    },
    {
      "cell_type": "code",
      "metadata": {
        "id": "I5EKIWBJNvhO",
        "outputId": "d0f476a5-3ecd-45f6-cefd-98cd5b4d81ed",
        "colab": {
          "base_uri": "https://localhost:8080/"
        }
      },
      "source": [
        "s[1]"
      ],
      "execution_count": 4,
      "outputs": [
        {
          "output_type": "execute_result",
          "data": {
            "text/plain": [
              "4"
            ]
          },
          "metadata": {
            "tags": []
          },
          "execution_count": 4
        }
      ]
    },
    {
      "cell_type": "code",
      "metadata": {
        "id": "Ri-tHbPZQYAv",
        "outputId": "b0526409-9750-4845-dd2f-3b53b3c86862",
        "colab": {
          "base_uri": "https://localhost:8080/"
        }
      },
      "source": [
        "t[1]"
      ],
      "execution_count": 5,
      "outputs": [
        {
          "output_type": "execute_result",
          "data": {
            "text/plain": [
              "2"
            ]
          },
          "metadata": {
            "tags": []
          },
          "execution_count": 5
        }
      ]
    },
    {
      "cell_type": "code",
      "metadata": {
        "id": "PdkP5qezQZdz",
        "outputId": "5dff9a89-7ea7-4263-d143-a69c401183ca",
        "colab": {
          "base_uri": "https://localhost:8080/"
        }
      },
      "source": [
        "t[1:3]"
      ],
      "execution_count": 6,
      "outputs": [
        {
          "output_type": "execute_result",
          "data": {
            "text/plain": [
              "two      2\n",
              "three    3\n",
              "dtype: int64"
            ]
          },
          "metadata": {
            "tags": []
          },
          "execution_count": 6
        }
      ]
    },
    {
      "cell_type": "code",
      "metadata": {
        "id": "Difa_KPmQa37",
        "outputId": "3761da8f-c08a-4bf2-fc1f-93276d7c5877",
        "colab": {
          "base_uri": "https://localhost:8080/"
        }
      },
      "source": [
        "s[s>s.median()] #자기 자신의 median(중앙값)보다 큰 값들만 가지고 와라"
      ],
      "execution_count": 7,
      "outputs": [
        {
          "output_type": "execute_result",
          "data": {
            "text/plain": [
              "3    16\n",
              "4    25\n",
              "dtype: int64"
            ]
          },
          "metadata": {
            "tags": []
          },
          "execution_count": 7
        }
      ]
    },
    {
      "cell_type": "code",
      "metadata": {
        "id": "olRz9nQzQwZ9",
        "outputId": "a2523fc0-ffde-47f4-a639-be2f9c66691a",
        "colab": {
          "base_uri": "https://localhost:8080/"
        }
      },
      "source": [
        "import numpy as np\n",
        "\n",
        "np.exp(s)"
      ],
      "execution_count": 8,
      "outputs": [
        {
          "output_type": "execute_result",
          "data": {
            "text/plain": [
              "0    2.718282e+00\n",
              "1    5.459815e+01\n",
              "2    8.103084e+03\n",
              "3    8.886111e+06\n",
              "4    7.200490e+10\n",
              "dtype: float64"
            ]
          },
          "metadata": {
            "tags": []
          },
          "execution_count": 8
        }
      ]
    },
    {
      "cell_type": "code",
      "metadata": {
        "id": "2magk3FWQznq",
        "outputId": "1311e15c-9827-4cdc-b574-a4553d01b1dc",
        "colab": {
          "base_uri": "https://localhost:8080/"
        }
      },
      "source": [
        "s.dtype"
      ],
      "execution_count": 9,
      "outputs": [
        {
          "output_type": "execute_result",
          "data": {
            "text/plain": [
              "dtype('int64')"
            ]
          },
          "metadata": {
            "tags": []
          },
          "execution_count": 9
        }
      ]
    },
    {
      "cell_type": "markdown",
      "metadata": {
        "id": "OvQa5ws0RIgV"
      },
      "source": [
        "#Series+dict\n",
        "* series는 **dict**와 유사하다"
      ]
    },
    {
      "cell_type": "code",
      "metadata": {
        "id": "5TgtCmIEUESg",
        "outputId": "18a0ac89-f701-4485-f6f3-dc7d9c733154",
        "colab": {
          "base_uri": "https://localhost:8080/"
        }
      },
      "source": [
        "t"
      ],
      "execution_count": 10,
      "outputs": [
        {
          "output_type": "execute_result",
          "data": {
            "text/plain": [
              "one      1\n",
              "two      2\n",
              "three    3\n",
              "four     4\n",
              "five     5\n",
              "dtype: int64"
            ]
          },
          "metadata": {
            "tags": []
          },
          "execution_count": 10
        }
      ]
    },
    {
      "cell_type": "code",
      "metadata": {
        "id": "9pzKJPxrUJid",
        "outputId": "3f251900-1511-4794-ac7e-8ebac9e94bde",
        "colab": {
          "base_uri": "https://localhost:8080/"
        }
      },
      "source": [
        "t['one']"
      ],
      "execution_count": 11,
      "outputs": [
        {
          "output_type": "execute_result",
          "data": {
            "text/plain": [
              "1"
            ]
          },
          "metadata": {
            "tags": []
          },
          "execution_count": 11
        }
      ]
    },
    {
      "cell_type": "code",
      "metadata": {
        "id": "kw5n1VPYULKD",
        "outputId": "20e98635-bca2-4c28-c744-b2becaaec5e7",
        "colab": {
          "base_uri": "https://localhost:8080/"
        }
      },
      "source": [
        "#Series에 값 추가\n",
        "t['six']=6\n",
        "t"
      ],
      "execution_count": 12,
      "outputs": [
        {
          "output_type": "execute_result",
          "data": {
            "text/plain": [
              "one      1\n",
              "two      2\n",
              "three    3\n",
              "four     4\n",
              "five     5\n",
              "six      6\n",
              "dtype: int64"
            ]
          },
          "metadata": {
            "tags": []
          },
          "execution_count": 12
        }
      ]
    },
    {
      "cell_type": "code",
      "metadata": {
        "id": "7JIwLfx9UQCJ",
        "outputId": "459d091d-6728-41fb-d4e5-8dc279487424",
        "colab": {
          "base_uri": "https://localhost:8080/"
        }
      },
      "source": [
        "'six' in t"
      ],
      "execution_count": 13,
      "outputs": [
        {
          "output_type": "execute_result",
          "data": {
            "text/plain": [
              "True"
            ]
          },
          "metadata": {
            "tags": []
          },
          "execution_count": 13
        }
      ]
    },
    {
      "cell_type": "code",
      "metadata": {
        "id": "T1d7R0KVUTm_",
        "outputId": "6b62d193-e28b-4c5b-8280-f567c658c7b7",
        "colab": {
          "base_uri": "https://localhost:8080/"
        }
      },
      "source": [
        "'seven' in t"
      ],
      "execution_count": 14,
      "outputs": [
        {
          "output_type": "execute_result",
          "data": {
            "text/plain": [
              "False"
            ]
          },
          "metadata": {
            "tags": []
          },
          "execution_count": 14
        }
      ]
    },
    {
      "cell_type": "code",
      "metadata": {
        "id": "NUM5gjAtUVuz"
      },
      "source": [
        "#t['seven']"
      ],
      "execution_count": 15,
      "outputs": []
    },
    {
      "cell_type": "code",
      "metadata": {
        "id": "ejti_zv0UZHa"
      },
      "source": [
        "#get : key의 value값 가져오기 없으면 default값출력\n",
        "t.get('seven')"
      ],
      "execution_count": 16,
      "outputs": []
    },
    {
      "cell_type": "code",
      "metadata": {
        "id": "CuyDEay-UbXp",
        "outputId": "6144c3ed-015f-4522-94b4-660bf85f48ee",
        "colab": {
          "base_uri": "https://localhost:8080/"
        }
      },
      "source": [
        "t.get('seven',0)"
      ],
      "execution_count": 17,
      "outputs": [
        {
          "output_type": "execute_result",
          "data": {
            "text/plain": [
              "0"
            ]
          },
          "metadata": {
            "tags": []
          },
          "execution_count": 17
        }
      ]
    },
    {
      "cell_type": "code",
      "metadata": {
        "id": "MMudhrrAUedo",
        "outputId": "f1c1882d-f32b-40c8-aaf3-93f8eda3349d",
        "colab": {
          "base_uri": "https://localhost:8080/"
        }
      },
      "source": [
        "t"
      ],
      "execution_count": 18,
      "outputs": [
        {
          "output_type": "execute_result",
          "data": {
            "text/plain": [
              "one      1\n",
              "two      2\n",
              "three    3\n",
              "four     4\n",
              "five     5\n",
              "six      6\n",
              "dtype: int64"
            ]
          },
          "metadata": {
            "tags": []
          },
          "execution_count": 18
        }
      ]
    },
    {
      "cell_type": "markdown",
      "metadata": {
        "id": "hJ69I4S2ZUbH"
      },
      "source": [
        "##Series에 이름 붙이기\n",
        "* name 속성을 가지고 있다\n",
        "* 처음 Series를 만들 때 이름을 붙일 수 있다"
      ]
    },
    {
      "cell_type": "code",
      "metadata": {
        "id": "0Pe4YNvXZb21",
        "outputId": "bb6f4b51-ef26-4884-fa3a-3da3853ebc89",
        "colab": {
          "base_uri": "https://localhost:8080/"
        }
      },
      "source": [
        "s=pd.Series(np.random.randn(5),name=\"random_nums\")\n",
        "s"
      ],
      "execution_count": 19,
      "outputs": [
        {
          "output_type": "execute_result",
          "data": {
            "text/plain": [
              "0   -1.079159\n",
              "1   -1.074697\n",
              "2    0.417277\n",
              "3    0.637776\n",
              "4    0.310793\n",
              "Name: random_nums, dtype: float64"
            ]
          },
          "metadata": {
            "tags": []
          },
          "execution_count": 19
        }
      ]
    },
    {
      "cell_type": "code",
      "metadata": {
        "id": "Y7l0o3VLZmZs"
      },
      "source": [
        "s.name='임의의 난수'"
      ],
      "execution_count": 20,
      "outputs": []
    },
    {
      "cell_type": "code",
      "metadata": {
        "id": "cPSCXHYJZokb",
        "outputId": "177265a3-c601-4839-8a71-8e79bd600de6",
        "colab": {
          "base_uri": "https://localhost:8080/"
        }
      },
      "source": [
        "s"
      ],
      "execution_count": 21,
      "outputs": [
        {
          "output_type": "execute_result",
          "data": {
            "text/plain": [
              "0   -1.079159\n",
              "1   -1.074697\n",
              "2    0.417277\n",
              "3    0.637776\n",
              "4    0.310793\n",
              "Name: 임의의 난수, dtype: float64"
            ]
          },
          "metadata": {
            "tags": []
          },
          "execution_count": 21
        }
      ]
    },
    {
      "cell_type": "markdown",
      "metadata": {
        "id": "IIjTb4vtMPDF"
      },
      "source": [
        "## III. Pandas로 2차원 데이터 다루기 - dataframe"
      ]
    },
    {
      "cell_type": "markdown",
      "metadata": {
        "id": "_N_m9qsxe4fL"
      },
      "source": [
        "##dataframe?\n",
        "* 2-D labeled table\n",
        "* 인덱스를 지정할 수도 있음"
      ]
    },
    {
      "cell_type": "code",
      "metadata": {
        "id": "OB8W2xXje-0E",
        "outputId": "8d494ee2-6444-4fa5-c9c4-8d18f51eeaf3",
        "colab": {
          "base_uri": "https://localhost:8080/",
          "height": 171
        }
      },
      "source": [
        "d={\"height\":[1,2,3,4],\"weight\":[30,40,50,60]}\n",
        "df=pd.DataFrame(d)\n",
        "df"
      ],
      "execution_count": 22,
      "outputs": [
        {
          "output_type": "execute_result",
          "data": {
            "text/html": [
              "<div>\n",
              "<style scoped>\n",
              "    .dataframe tbody tr th:only-of-type {\n",
              "        vertical-align: middle;\n",
              "    }\n",
              "\n",
              "    .dataframe tbody tr th {\n",
              "        vertical-align: top;\n",
              "    }\n",
              "\n",
              "    .dataframe thead th {\n",
              "        text-align: right;\n",
              "    }\n",
              "</style>\n",
              "<table border=\"1\" class=\"dataframe\">\n",
              "  <thead>\n",
              "    <tr style=\"text-align: right;\">\n",
              "      <th></th>\n",
              "      <th>height</th>\n",
              "      <th>weight</th>\n",
              "    </tr>\n",
              "  </thead>\n",
              "  <tbody>\n",
              "    <tr>\n",
              "      <th>0</th>\n",
              "      <td>1</td>\n",
              "      <td>30</td>\n",
              "    </tr>\n",
              "    <tr>\n",
              "      <th>1</th>\n",
              "      <td>2</td>\n",
              "      <td>40</td>\n",
              "    </tr>\n",
              "    <tr>\n",
              "      <th>2</th>\n",
              "      <td>3</td>\n",
              "      <td>50</td>\n",
              "    </tr>\n",
              "    <tr>\n",
              "      <th>3</th>\n",
              "      <td>4</td>\n",
              "      <td>60</td>\n",
              "    </tr>\n",
              "  </tbody>\n",
              "</table>\n",
              "</div>"
            ],
            "text/plain": [
              "   height  weight\n",
              "0       1      30\n",
              "1       2      40\n",
              "2       3      50\n",
              "3       4      60"
            ]
          },
          "metadata": {
            "tags": []
          },
          "execution_count": 22
        }
      ]
    },
    {
      "cell_type": "code",
      "metadata": {
        "id": "e21IX8tdfI1c",
        "outputId": "ec1f1d90-20cc-4ad1-a063-414ce80d0d28",
        "colab": {
          "base_uri": "https://localhost:8080/"
        }
      },
      "source": [
        "##dtype 확인\n",
        "df.dtypes"
      ],
      "execution_count": 23,
      "outputs": [
        {
          "output_type": "execute_result",
          "data": {
            "text/plain": [
              "height    int64\n",
              "weight    int64\n",
              "dtype: object"
            ]
          },
          "metadata": {
            "tags": []
          },
          "execution_count": 23
        }
      ]
    },
    {
      "cell_type": "markdown",
      "metadata": {
        "id": "c9h7WyDvfQtq"
      },
      "source": [
        "##From CSV to dataframe\n",
        "* Comma Separated Value를 DataFrame으로 생성해 줄 수 있다.\n",
        "* .read_csv()를 이용"
      ]
    },
    {
      "cell_type": "code",
      "metadata": {
        "id": "F3t8tj7Mfc3f",
        "outputId": "d4e4936d-2b74-46a6-d053-48d92634aed6",
        "colab": {
          "base_uri": "https://localhost:8080/",
          "height": 522
        }
      },
      "source": [
        "#동일 경로에 country_wise_latest_csv가 존재하면 :\n",
        "covid=pd.read_csv(\"./country_wise_latest.csv\")\n",
        "covid"
      ],
      "execution_count": 25,
      "outputs": [
        {
          "output_type": "execute_result",
          "data": {
            "text/html": [
              "<div>\n",
              "<style scoped>\n",
              "    .dataframe tbody tr th:only-of-type {\n",
              "        vertical-align: middle;\n",
              "    }\n",
              "\n",
              "    .dataframe tbody tr th {\n",
              "        vertical-align: top;\n",
              "    }\n",
              "\n",
              "    .dataframe thead th {\n",
              "        text-align: right;\n",
              "    }\n",
              "</style>\n",
              "<table border=\"1\" class=\"dataframe\">\n",
              "  <thead>\n",
              "    <tr style=\"text-align: right;\">\n",
              "      <th></th>\n",
              "      <th>Country/Region</th>\n",
              "      <th>Confirmed</th>\n",
              "      <th>Deaths</th>\n",
              "      <th>Recovered</th>\n",
              "      <th>Active</th>\n",
              "      <th>New cases</th>\n",
              "      <th>New deaths</th>\n",
              "      <th>New recovered</th>\n",
              "      <th>Deaths / 100 Cases</th>\n",
              "      <th>Recovered / 100 Cases</th>\n",
              "      <th>Deaths / 100 Recovered</th>\n",
              "      <th>Confirmed last week</th>\n",
              "      <th>1 week change</th>\n",
              "      <th>1 week % increase</th>\n",
              "      <th>WHO Region</th>\n",
              "    </tr>\n",
              "  </thead>\n",
              "  <tbody>\n",
              "    <tr>\n",
              "      <th>0</th>\n",
              "      <td>Afghanistan</td>\n",
              "      <td>36263</td>\n",
              "      <td>1269</td>\n",
              "      <td>25198</td>\n",
              "      <td>9796</td>\n",
              "      <td>106</td>\n",
              "      <td>10</td>\n",
              "      <td>18</td>\n",
              "      <td>3.50</td>\n",
              "      <td>69.49</td>\n",
              "      <td>5.04</td>\n",
              "      <td>35526</td>\n",
              "      <td>737</td>\n",
              "      <td>2.07</td>\n",
              "      <td>Eastern Mediterranean</td>\n",
              "    </tr>\n",
              "    <tr>\n",
              "      <th>1</th>\n",
              "      <td>Albania</td>\n",
              "      <td>4880</td>\n",
              "      <td>144</td>\n",
              "      <td>2745</td>\n",
              "      <td>1991</td>\n",
              "      <td>117</td>\n",
              "      <td>6</td>\n",
              "      <td>63</td>\n",
              "      <td>2.95</td>\n",
              "      <td>56.25</td>\n",
              "      <td>5.25</td>\n",
              "      <td>4171</td>\n",
              "      <td>709</td>\n",
              "      <td>17.00</td>\n",
              "      <td>Europe</td>\n",
              "    </tr>\n",
              "    <tr>\n",
              "      <th>2</th>\n",
              "      <td>Algeria</td>\n",
              "      <td>27973</td>\n",
              "      <td>1163</td>\n",
              "      <td>18837</td>\n",
              "      <td>7973</td>\n",
              "      <td>616</td>\n",
              "      <td>8</td>\n",
              "      <td>749</td>\n",
              "      <td>4.16</td>\n",
              "      <td>67.34</td>\n",
              "      <td>6.17</td>\n",
              "      <td>23691</td>\n",
              "      <td>4282</td>\n",
              "      <td>18.07</td>\n",
              "      <td>Africa</td>\n",
              "    </tr>\n",
              "    <tr>\n",
              "      <th>3</th>\n",
              "      <td>Andorra</td>\n",
              "      <td>907</td>\n",
              "      <td>52</td>\n",
              "      <td>803</td>\n",
              "      <td>52</td>\n",
              "      <td>10</td>\n",
              "      <td>0</td>\n",
              "      <td>0</td>\n",
              "      <td>5.73</td>\n",
              "      <td>88.53</td>\n",
              "      <td>6.48</td>\n",
              "      <td>884</td>\n",
              "      <td>23</td>\n",
              "      <td>2.60</td>\n",
              "      <td>Europe</td>\n",
              "    </tr>\n",
              "    <tr>\n",
              "      <th>4</th>\n",
              "      <td>Angola</td>\n",
              "      <td>950</td>\n",
              "      <td>41</td>\n",
              "      <td>242</td>\n",
              "      <td>667</td>\n",
              "      <td>18</td>\n",
              "      <td>1</td>\n",
              "      <td>0</td>\n",
              "      <td>4.32</td>\n",
              "      <td>25.47</td>\n",
              "      <td>16.94</td>\n",
              "      <td>749</td>\n",
              "      <td>201</td>\n",
              "      <td>26.84</td>\n",
              "      <td>Africa</td>\n",
              "    </tr>\n",
              "    <tr>\n",
              "      <th>...</th>\n",
              "      <td>...</td>\n",
              "      <td>...</td>\n",
              "      <td>...</td>\n",
              "      <td>...</td>\n",
              "      <td>...</td>\n",
              "      <td>...</td>\n",
              "      <td>...</td>\n",
              "      <td>...</td>\n",
              "      <td>...</td>\n",
              "      <td>...</td>\n",
              "      <td>...</td>\n",
              "      <td>...</td>\n",
              "      <td>...</td>\n",
              "      <td>...</td>\n",
              "      <td>...</td>\n",
              "    </tr>\n",
              "    <tr>\n",
              "      <th>182</th>\n",
              "      <td>West Bank and Gaza</td>\n",
              "      <td>10621</td>\n",
              "      <td>78</td>\n",
              "      <td>3752</td>\n",
              "      <td>6791</td>\n",
              "      <td>152</td>\n",
              "      <td>2</td>\n",
              "      <td>0</td>\n",
              "      <td>0.73</td>\n",
              "      <td>35.33</td>\n",
              "      <td>2.08</td>\n",
              "      <td>8916</td>\n",
              "      <td>1705</td>\n",
              "      <td>19.12</td>\n",
              "      <td>Eastern Mediterranean</td>\n",
              "    </tr>\n",
              "    <tr>\n",
              "      <th>183</th>\n",
              "      <td>Western Sahara</td>\n",
              "      <td>10</td>\n",
              "      <td>1</td>\n",
              "      <td>8</td>\n",
              "      <td>1</td>\n",
              "      <td>0</td>\n",
              "      <td>0</td>\n",
              "      <td>0</td>\n",
              "      <td>10.00</td>\n",
              "      <td>80.00</td>\n",
              "      <td>12.50</td>\n",
              "      <td>10</td>\n",
              "      <td>0</td>\n",
              "      <td>0.00</td>\n",
              "      <td>Africa</td>\n",
              "    </tr>\n",
              "    <tr>\n",
              "      <th>184</th>\n",
              "      <td>Yemen</td>\n",
              "      <td>1691</td>\n",
              "      <td>483</td>\n",
              "      <td>833</td>\n",
              "      <td>375</td>\n",
              "      <td>10</td>\n",
              "      <td>4</td>\n",
              "      <td>36</td>\n",
              "      <td>28.56</td>\n",
              "      <td>49.26</td>\n",
              "      <td>57.98</td>\n",
              "      <td>1619</td>\n",
              "      <td>72</td>\n",
              "      <td>4.45</td>\n",
              "      <td>Eastern Mediterranean</td>\n",
              "    </tr>\n",
              "    <tr>\n",
              "      <th>185</th>\n",
              "      <td>Zambia</td>\n",
              "      <td>4552</td>\n",
              "      <td>140</td>\n",
              "      <td>2815</td>\n",
              "      <td>1597</td>\n",
              "      <td>71</td>\n",
              "      <td>1</td>\n",
              "      <td>465</td>\n",
              "      <td>3.08</td>\n",
              "      <td>61.84</td>\n",
              "      <td>4.97</td>\n",
              "      <td>3326</td>\n",
              "      <td>1226</td>\n",
              "      <td>36.86</td>\n",
              "      <td>Africa</td>\n",
              "    </tr>\n",
              "    <tr>\n",
              "      <th>186</th>\n",
              "      <td>Zimbabwe</td>\n",
              "      <td>2704</td>\n",
              "      <td>36</td>\n",
              "      <td>542</td>\n",
              "      <td>2126</td>\n",
              "      <td>192</td>\n",
              "      <td>2</td>\n",
              "      <td>24</td>\n",
              "      <td>1.33</td>\n",
              "      <td>20.04</td>\n",
              "      <td>6.64</td>\n",
              "      <td>1713</td>\n",
              "      <td>991</td>\n",
              "      <td>57.85</td>\n",
              "      <td>Africa</td>\n",
              "    </tr>\n",
              "  </tbody>\n",
              "</table>\n",
              "<p>187 rows × 15 columns</p>\n",
              "</div>"
            ],
            "text/plain": [
              "         Country/Region  Confirmed  ...  1 week % increase             WHO Region\n",
              "0           Afghanistan      36263  ...               2.07  Eastern Mediterranean\n",
              "1               Albania       4880  ...              17.00                 Europe\n",
              "2               Algeria      27973  ...              18.07                 Africa\n",
              "3               Andorra        907  ...               2.60                 Europe\n",
              "4                Angola        950  ...              26.84                 Africa\n",
              "..                  ...        ...  ...                ...                    ...\n",
              "182  West Bank and Gaza      10621  ...              19.12  Eastern Mediterranean\n",
              "183      Western Sahara         10  ...               0.00                 Africa\n",
              "184               Yemen       1691  ...               4.45  Eastern Mediterranean\n",
              "185              Zambia       4552  ...              36.86                 Africa\n",
              "186            Zimbabwe       2704  ...              57.85                 Africa\n",
              "\n",
              "[187 rows x 15 columns]"
            ]
          },
          "metadata": {
            "tags": []
          },
          "execution_count": 25
        }
      ]
    },
    {
      "cell_type": "markdown",
      "metadata": {
        "id": "X1HoO9TisUNR"
      },
      "source": [
        "###Pandas 활용 1. 일부분만 관찰하기\n",
        "head(n) : 처음 n개의 데이터 참조"
      ]
    },
    {
      "cell_type": "code",
      "metadata": {
        "id": "rtfLxnBesfNe",
        "outputId": "35e7228e-080e-4718-dc70-521aa12f76db",
        "colab": {
          "base_uri": "https://localhost:8080/",
          "height": 274
        }
      },
      "source": [
        "#위에서부터 5개를 관찰하는 방법(함수)\n",
        "covid.head(5)"
      ],
      "execution_count": 26,
      "outputs": [
        {
          "output_type": "execute_result",
          "data": {
            "text/html": [
              "<div>\n",
              "<style scoped>\n",
              "    .dataframe tbody tr th:only-of-type {\n",
              "        vertical-align: middle;\n",
              "    }\n",
              "\n",
              "    .dataframe tbody tr th {\n",
              "        vertical-align: top;\n",
              "    }\n",
              "\n",
              "    .dataframe thead th {\n",
              "        text-align: right;\n",
              "    }\n",
              "</style>\n",
              "<table border=\"1\" class=\"dataframe\">\n",
              "  <thead>\n",
              "    <tr style=\"text-align: right;\">\n",
              "      <th></th>\n",
              "      <th>Country/Region</th>\n",
              "      <th>Confirmed</th>\n",
              "      <th>Deaths</th>\n",
              "      <th>Recovered</th>\n",
              "      <th>Active</th>\n",
              "      <th>New cases</th>\n",
              "      <th>New deaths</th>\n",
              "      <th>New recovered</th>\n",
              "      <th>Deaths / 100 Cases</th>\n",
              "      <th>Recovered / 100 Cases</th>\n",
              "      <th>Deaths / 100 Recovered</th>\n",
              "      <th>Confirmed last week</th>\n",
              "      <th>1 week change</th>\n",
              "      <th>1 week % increase</th>\n",
              "      <th>WHO Region</th>\n",
              "    </tr>\n",
              "  </thead>\n",
              "  <tbody>\n",
              "    <tr>\n",
              "      <th>0</th>\n",
              "      <td>Afghanistan</td>\n",
              "      <td>36263</td>\n",
              "      <td>1269</td>\n",
              "      <td>25198</td>\n",
              "      <td>9796</td>\n",
              "      <td>106</td>\n",
              "      <td>10</td>\n",
              "      <td>18</td>\n",
              "      <td>3.50</td>\n",
              "      <td>69.49</td>\n",
              "      <td>5.04</td>\n",
              "      <td>35526</td>\n",
              "      <td>737</td>\n",
              "      <td>2.07</td>\n",
              "      <td>Eastern Mediterranean</td>\n",
              "    </tr>\n",
              "    <tr>\n",
              "      <th>1</th>\n",
              "      <td>Albania</td>\n",
              "      <td>4880</td>\n",
              "      <td>144</td>\n",
              "      <td>2745</td>\n",
              "      <td>1991</td>\n",
              "      <td>117</td>\n",
              "      <td>6</td>\n",
              "      <td>63</td>\n",
              "      <td>2.95</td>\n",
              "      <td>56.25</td>\n",
              "      <td>5.25</td>\n",
              "      <td>4171</td>\n",
              "      <td>709</td>\n",
              "      <td>17.00</td>\n",
              "      <td>Europe</td>\n",
              "    </tr>\n",
              "    <tr>\n",
              "      <th>2</th>\n",
              "      <td>Algeria</td>\n",
              "      <td>27973</td>\n",
              "      <td>1163</td>\n",
              "      <td>18837</td>\n",
              "      <td>7973</td>\n",
              "      <td>616</td>\n",
              "      <td>8</td>\n",
              "      <td>749</td>\n",
              "      <td>4.16</td>\n",
              "      <td>67.34</td>\n",
              "      <td>6.17</td>\n",
              "      <td>23691</td>\n",
              "      <td>4282</td>\n",
              "      <td>18.07</td>\n",
              "      <td>Africa</td>\n",
              "    </tr>\n",
              "    <tr>\n",
              "      <th>3</th>\n",
              "      <td>Andorra</td>\n",
              "      <td>907</td>\n",
              "      <td>52</td>\n",
              "      <td>803</td>\n",
              "      <td>52</td>\n",
              "      <td>10</td>\n",
              "      <td>0</td>\n",
              "      <td>0</td>\n",
              "      <td>5.73</td>\n",
              "      <td>88.53</td>\n",
              "      <td>6.48</td>\n",
              "      <td>884</td>\n",
              "      <td>23</td>\n",
              "      <td>2.60</td>\n",
              "      <td>Europe</td>\n",
              "    </tr>\n",
              "    <tr>\n",
              "      <th>4</th>\n",
              "      <td>Angola</td>\n",
              "      <td>950</td>\n",
              "      <td>41</td>\n",
              "      <td>242</td>\n",
              "      <td>667</td>\n",
              "      <td>18</td>\n",
              "      <td>1</td>\n",
              "      <td>0</td>\n",
              "      <td>4.32</td>\n",
              "      <td>25.47</td>\n",
              "      <td>16.94</td>\n",
              "      <td>749</td>\n",
              "      <td>201</td>\n",
              "      <td>26.84</td>\n",
              "      <td>Africa</td>\n",
              "    </tr>\n",
              "  </tbody>\n",
              "</table>\n",
              "</div>"
            ],
            "text/plain": [
              "  Country/Region  Confirmed  ...  1 week % increase             WHO Region\n",
              "0    Afghanistan      36263  ...               2.07  Eastern Mediterranean\n",
              "1        Albania       4880  ...              17.00                 Europe\n",
              "2        Algeria      27973  ...              18.07                 Africa\n",
              "3        Andorra        907  ...               2.60                 Europe\n",
              "4         Angola        950  ...              26.84                 Africa\n",
              "\n",
              "[5 rows x 15 columns]"
            ]
          },
          "metadata": {
            "tags": []
          },
          "execution_count": 26
        }
      ]
    },
    {
      "cell_type": "markdown",
      "metadata": {
        "id": "qw092WlBsmza"
      },
      "source": [
        "tail(n) : 마지막 n개의 데이터를 참조"
      ]
    },
    {
      "cell_type": "code",
      "metadata": {
        "id": "jRWX6PxSspgH",
        "outputId": "b537285f-92df-408b-c1dc-445fa5db9bcc",
        "colab": {
          "base_uri": "https://localhost:8080/",
          "height": 291
        }
      },
      "source": [
        "#아래에서부터 5개를 관찰하는 방법(함수)\n",
        "covid.tail(5)"
      ],
      "execution_count": 27,
      "outputs": [
        {
          "output_type": "execute_result",
          "data": {
            "text/html": [
              "<div>\n",
              "<style scoped>\n",
              "    .dataframe tbody tr th:only-of-type {\n",
              "        vertical-align: middle;\n",
              "    }\n",
              "\n",
              "    .dataframe tbody tr th {\n",
              "        vertical-align: top;\n",
              "    }\n",
              "\n",
              "    .dataframe thead th {\n",
              "        text-align: right;\n",
              "    }\n",
              "</style>\n",
              "<table border=\"1\" class=\"dataframe\">\n",
              "  <thead>\n",
              "    <tr style=\"text-align: right;\">\n",
              "      <th></th>\n",
              "      <th>Country/Region</th>\n",
              "      <th>Confirmed</th>\n",
              "      <th>Deaths</th>\n",
              "      <th>Recovered</th>\n",
              "      <th>Active</th>\n",
              "      <th>New cases</th>\n",
              "      <th>New deaths</th>\n",
              "      <th>New recovered</th>\n",
              "      <th>Deaths / 100 Cases</th>\n",
              "      <th>Recovered / 100 Cases</th>\n",
              "      <th>Deaths / 100 Recovered</th>\n",
              "      <th>Confirmed last week</th>\n",
              "      <th>1 week change</th>\n",
              "      <th>1 week % increase</th>\n",
              "      <th>WHO Region</th>\n",
              "    </tr>\n",
              "  </thead>\n",
              "  <tbody>\n",
              "    <tr>\n",
              "      <th>182</th>\n",
              "      <td>West Bank and Gaza</td>\n",
              "      <td>10621</td>\n",
              "      <td>78</td>\n",
              "      <td>3752</td>\n",
              "      <td>6791</td>\n",
              "      <td>152</td>\n",
              "      <td>2</td>\n",
              "      <td>0</td>\n",
              "      <td>0.73</td>\n",
              "      <td>35.33</td>\n",
              "      <td>2.08</td>\n",
              "      <td>8916</td>\n",
              "      <td>1705</td>\n",
              "      <td>19.12</td>\n",
              "      <td>Eastern Mediterranean</td>\n",
              "    </tr>\n",
              "    <tr>\n",
              "      <th>183</th>\n",
              "      <td>Western Sahara</td>\n",
              "      <td>10</td>\n",
              "      <td>1</td>\n",
              "      <td>8</td>\n",
              "      <td>1</td>\n",
              "      <td>0</td>\n",
              "      <td>0</td>\n",
              "      <td>0</td>\n",
              "      <td>10.00</td>\n",
              "      <td>80.00</td>\n",
              "      <td>12.50</td>\n",
              "      <td>10</td>\n",
              "      <td>0</td>\n",
              "      <td>0.00</td>\n",
              "      <td>Africa</td>\n",
              "    </tr>\n",
              "    <tr>\n",
              "      <th>184</th>\n",
              "      <td>Yemen</td>\n",
              "      <td>1691</td>\n",
              "      <td>483</td>\n",
              "      <td>833</td>\n",
              "      <td>375</td>\n",
              "      <td>10</td>\n",
              "      <td>4</td>\n",
              "      <td>36</td>\n",
              "      <td>28.56</td>\n",
              "      <td>49.26</td>\n",
              "      <td>57.98</td>\n",
              "      <td>1619</td>\n",
              "      <td>72</td>\n",
              "      <td>4.45</td>\n",
              "      <td>Eastern Mediterranean</td>\n",
              "    </tr>\n",
              "    <tr>\n",
              "      <th>185</th>\n",
              "      <td>Zambia</td>\n",
              "      <td>4552</td>\n",
              "      <td>140</td>\n",
              "      <td>2815</td>\n",
              "      <td>1597</td>\n",
              "      <td>71</td>\n",
              "      <td>1</td>\n",
              "      <td>465</td>\n",
              "      <td>3.08</td>\n",
              "      <td>61.84</td>\n",
              "      <td>4.97</td>\n",
              "      <td>3326</td>\n",
              "      <td>1226</td>\n",
              "      <td>36.86</td>\n",
              "      <td>Africa</td>\n",
              "    </tr>\n",
              "    <tr>\n",
              "      <th>186</th>\n",
              "      <td>Zimbabwe</td>\n",
              "      <td>2704</td>\n",
              "      <td>36</td>\n",
              "      <td>542</td>\n",
              "      <td>2126</td>\n",
              "      <td>192</td>\n",
              "      <td>2</td>\n",
              "      <td>24</td>\n",
              "      <td>1.33</td>\n",
              "      <td>20.04</td>\n",
              "      <td>6.64</td>\n",
              "      <td>1713</td>\n",
              "      <td>991</td>\n",
              "      <td>57.85</td>\n",
              "      <td>Africa</td>\n",
              "    </tr>\n",
              "  </tbody>\n",
              "</table>\n",
              "</div>"
            ],
            "text/plain": [
              "         Country/Region  Confirmed  ...  1 week % increase             WHO Region\n",
              "182  West Bank and Gaza      10621  ...              19.12  Eastern Mediterranean\n",
              "183      Western Sahara         10  ...               0.00                 Africa\n",
              "184               Yemen       1691  ...               4.45  Eastern Mediterranean\n",
              "185              Zambia       4552  ...              36.86                 Africa\n",
              "186            Zimbabwe       2704  ...              57.85                 Africa\n",
              "\n",
              "[5 rows x 15 columns]"
            ]
          },
          "metadata": {
            "tags": []
          },
          "execution_count": 27
        }
      ]
    },
    {
      "cell_type": "markdown",
      "metadata": {
        "id": "DMbEicEms3e6"
      },
      "source": [
        "###Pandas 활용 2. 데이터 접근하기\n",
        "* df['column_name'] or df.column_name"
      ]
    },
    {
      "cell_type": "code",
      "metadata": {
        "id": "gritiGattDBD",
        "outputId": "b049ac7b-e4af-4f4a-e8b2-ade836294a99",
        "colab": {
          "base_uri": "https://localhost:8080/"
        }
      },
      "source": [
        "covid['Active']"
      ],
      "execution_count": 28,
      "outputs": [
        {
          "output_type": "execute_result",
          "data": {
            "text/plain": [
              "0      9796\n",
              "1      1991\n",
              "2      7973\n",
              "3        52\n",
              "4       667\n",
              "       ... \n",
              "182    6791\n",
              "183       1\n",
              "184     375\n",
              "185    1597\n",
              "186    2126\n",
              "Name: Active, Length: 187, dtype: int64"
            ]
          },
          "metadata": {
            "tags": []
          },
          "execution_count": 28
        }
      ]
    },
    {
      "cell_type": "code",
      "metadata": {
        "id": "3W_Kj929tF_H",
        "outputId": "53c948ca-4d1e-4306-cae1-750b86dffd65",
        "colab": {
          "base_uri": "https://localhost:8080/"
        }
      },
      "source": [
        "covid.Active"
      ],
      "execution_count": 29,
      "outputs": [
        {
          "output_type": "execute_result",
          "data": {
            "text/plain": [
              "0      9796\n",
              "1      1991\n",
              "2      7973\n",
              "3        52\n",
              "4       667\n",
              "       ... \n",
              "182    6791\n",
              "183       1\n",
              "184     375\n",
              "185    1597\n",
              "186    2126\n",
              "Name: Active, Length: 187, dtype: int64"
            ]
          },
          "metadata": {
            "tags": []
          },
          "execution_count": 29
        }
      ]
    },
    {
      "cell_type": "markdown",
      "metadata": {
        "id": "54KsivJbtXqB"
      },
      "source": [
        "###꿀팁!Dataframe의 각 column은 \"Series\"다!"
      ]
    },
    {
      "cell_type": "code",
      "metadata": {
        "id": "iHHzv3mFtd_4",
        "outputId": "8bbaa652-0ea8-48d3-99de-176e8c4d7b7f",
        "colab": {
          "base_uri": "https://localhost:8080/"
        }
      },
      "source": [
        "covid['Confirmed'][0]"
      ],
      "execution_count": 30,
      "outputs": [
        {
          "output_type": "execute_result",
          "data": {
            "text/plain": [
              "36263"
            ]
          },
          "metadata": {
            "tags": []
          },
          "execution_count": 30
        }
      ]
    },
    {
      "cell_type": "code",
      "metadata": {
        "id": "oeDnK3oWtowl",
        "outputId": "607bdd1a-7b16-463d-bb16-d322ff969efb",
        "colab": {
          "base_uri": "https://localhost:8080/"
        }
      },
      "source": [
        "covid['Confirmed'][1:5]"
      ],
      "execution_count": 31,
      "outputs": [
        {
          "output_type": "execute_result",
          "data": {
            "text/plain": [
              "1     4880\n",
              "2    27973\n",
              "3      907\n",
              "4      950\n",
              "Name: Confirmed, dtype: int64"
            ]
          },
          "metadata": {
            "tags": []
          },
          "execution_count": 31
        }
      ]
    },
    {
      "cell_type": "markdown",
      "metadata": {
        "id": "HjdcbnkptseP"
      },
      "source": [
        "###Pandas활용3. \"조건\"을 이용해서 데이터 접근하기"
      ]
    },
    {
      "cell_type": "code",
      "metadata": {
        "id": "xaEGBSQgtxC4",
        "outputId": "3b64310a-2aee-4657-d73b-da74f83a797b",
        "colab": {
          "base_uri": "https://localhost:8080/",
          "height": 522
        }
      },
      "source": [
        "#신규 확진자가 100명이 넘는 나라를 찾아보자\n",
        "covid[covid['New cases']>100]"
      ],
      "execution_count": 32,
      "outputs": [
        {
          "output_type": "execute_result",
          "data": {
            "text/html": [
              "<div>\n",
              "<style scoped>\n",
              "    .dataframe tbody tr th:only-of-type {\n",
              "        vertical-align: middle;\n",
              "    }\n",
              "\n",
              "    .dataframe tbody tr th {\n",
              "        vertical-align: top;\n",
              "    }\n",
              "\n",
              "    .dataframe thead th {\n",
              "        text-align: right;\n",
              "    }\n",
              "</style>\n",
              "<table border=\"1\" class=\"dataframe\">\n",
              "  <thead>\n",
              "    <tr style=\"text-align: right;\">\n",
              "      <th></th>\n",
              "      <th>Country/Region</th>\n",
              "      <th>Confirmed</th>\n",
              "      <th>Deaths</th>\n",
              "      <th>Recovered</th>\n",
              "      <th>Active</th>\n",
              "      <th>New cases</th>\n",
              "      <th>New deaths</th>\n",
              "      <th>New recovered</th>\n",
              "      <th>Deaths / 100 Cases</th>\n",
              "      <th>Recovered / 100 Cases</th>\n",
              "      <th>Deaths / 100 Recovered</th>\n",
              "      <th>Confirmed last week</th>\n",
              "      <th>1 week change</th>\n",
              "      <th>1 week % increase</th>\n",
              "      <th>WHO Region</th>\n",
              "    </tr>\n",
              "  </thead>\n",
              "  <tbody>\n",
              "    <tr>\n",
              "      <th>0</th>\n",
              "      <td>Afghanistan</td>\n",
              "      <td>36263</td>\n",
              "      <td>1269</td>\n",
              "      <td>25198</td>\n",
              "      <td>9796</td>\n",
              "      <td>106</td>\n",
              "      <td>10</td>\n",
              "      <td>18</td>\n",
              "      <td>3.50</td>\n",
              "      <td>69.49</td>\n",
              "      <td>5.04</td>\n",
              "      <td>35526</td>\n",
              "      <td>737</td>\n",
              "      <td>2.07</td>\n",
              "      <td>Eastern Mediterranean</td>\n",
              "    </tr>\n",
              "    <tr>\n",
              "      <th>1</th>\n",
              "      <td>Albania</td>\n",
              "      <td>4880</td>\n",
              "      <td>144</td>\n",
              "      <td>2745</td>\n",
              "      <td>1991</td>\n",
              "      <td>117</td>\n",
              "      <td>6</td>\n",
              "      <td>63</td>\n",
              "      <td>2.95</td>\n",
              "      <td>56.25</td>\n",
              "      <td>5.25</td>\n",
              "      <td>4171</td>\n",
              "      <td>709</td>\n",
              "      <td>17.00</td>\n",
              "      <td>Europe</td>\n",
              "    </tr>\n",
              "    <tr>\n",
              "      <th>2</th>\n",
              "      <td>Algeria</td>\n",
              "      <td>27973</td>\n",
              "      <td>1163</td>\n",
              "      <td>18837</td>\n",
              "      <td>7973</td>\n",
              "      <td>616</td>\n",
              "      <td>8</td>\n",
              "      <td>749</td>\n",
              "      <td>4.16</td>\n",
              "      <td>67.34</td>\n",
              "      <td>6.17</td>\n",
              "      <td>23691</td>\n",
              "      <td>4282</td>\n",
              "      <td>18.07</td>\n",
              "      <td>Africa</td>\n",
              "    </tr>\n",
              "    <tr>\n",
              "      <th>6</th>\n",
              "      <td>Argentina</td>\n",
              "      <td>167416</td>\n",
              "      <td>3059</td>\n",
              "      <td>72575</td>\n",
              "      <td>91782</td>\n",
              "      <td>4890</td>\n",
              "      <td>120</td>\n",
              "      <td>2057</td>\n",
              "      <td>1.83</td>\n",
              "      <td>43.35</td>\n",
              "      <td>4.21</td>\n",
              "      <td>130774</td>\n",
              "      <td>36642</td>\n",
              "      <td>28.02</td>\n",
              "      <td>Americas</td>\n",
              "    </tr>\n",
              "    <tr>\n",
              "      <th>8</th>\n",
              "      <td>Australia</td>\n",
              "      <td>15303</td>\n",
              "      <td>167</td>\n",
              "      <td>9311</td>\n",
              "      <td>5825</td>\n",
              "      <td>368</td>\n",
              "      <td>6</td>\n",
              "      <td>137</td>\n",
              "      <td>1.09</td>\n",
              "      <td>60.84</td>\n",
              "      <td>1.79</td>\n",
              "      <td>12428</td>\n",
              "      <td>2875</td>\n",
              "      <td>23.13</td>\n",
              "      <td>Western Pacific</td>\n",
              "    </tr>\n",
              "    <tr>\n",
              "      <th>...</th>\n",
              "      <td>...</td>\n",
              "      <td>...</td>\n",
              "      <td>...</td>\n",
              "      <td>...</td>\n",
              "      <td>...</td>\n",
              "      <td>...</td>\n",
              "      <td>...</td>\n",
              "      <td>...</td>\n",
              "      <td>...</td>\n",
              "      <td>...</td>\n",
              "      <td>...</td>\n",
              "      <td>...</td>\n",
              "      <td>...</td>\n",
              "      <td>...</td>\n",
              "      <td>...</td>\n",
              "    </tr>\n",
              "    <tr>\n",
              "      <th>177</th>\n",
              "      <td>United Kingdom</td>\n",
              "      <td>301708</td>\n",
              "      <td>45844</td>\n",
              "      <td>1437</td>\n",
              "      <td>254427</td>\n",
              "      <td>688</td>\n",
              "      <td>7</td>\n",
              "      <td>3</td>\n",
              "      <td>15.19</td>\n",
              "      <td>0.48</td>\n",
              "      <td>3190.26</td>\n",
              "      <td>296944</td>\n",
              "      <td>4764</td>\n",
              "      <td>1.60</td>\n",
              "      <td>Europe</td>\n",
              "    </tr>\n",
              "    <tr>\n",
              "      <th>179</th>\n",
              "      <td>Uzbekistan</td>\n",
              "      <td>21209</td>\n",
              "      <td>121</td>\n",
              "      <td>11674</td>\n",
              "      <td>9414</td>\n",
              "      <td>678</td>\n",
              "      <td>5</td>\n",
              "      <td>569</td>\n",
              "      <td>0.57</td>\n",
              "      <td>55.04</td>\n",
              "      <td>1.04</td>\n",
              "      <td>17149</td>\n",
              "      <td>4060</td>\n",
              "      <td>23.67</td>\n",
              "      <td>Europe</td>\n",
              "    </tr>\n",
              "    <tr>\n",
              "      <th>180</th>\n",
              "      <td>Venezuela</td>\n",
              "      <td>15988</td>\n",
              "      <td>146</td>\n",
              "      <td>9959</td>\n",
              "      <td>5883</td>\n",
              "      <td>525</td>\n",
              "      <td>4</td>\n",
              "      <td>213</td>\n",
              "      <td>0.91</td>\n",
              "      <td>62.29</td>\n",
              "      <td>1.47</td>\n",
              "      <td>12334</td>\n",
              "      <td>3654</td>\n",
              "      <td>29.63</td>\n",
              "      <td>Americas</td>\n",
              "    </tr>\n",
              "    <tr>\n",
              "      <th>182</th>\n",
              "      <td>West Bank and Gaza</td>\n",
              "      <td>10621</td>\n",
              "      <td>78</td>\n",
              "      <td>3752</td>\n",
              "      <td>6791</td>\n",
              "      <td>152</td>\n",
              "      <td>2</td>\n",
              "      <td>0</td>\n",
              "      <td>0.73</td>\n",
              "      <td>35.33</td>\n",
              "      <td>2.08</td>\n",
              "      <td>8916</td>\n",
              "      <td>1705</td>\n",
              "      <td>19.12</td>\n",
              "      <td>Eastern Mediterranean</td>\n",
              "    </tr>\n",
              "    <tr>\n",
              "      <th>186</th>\n",
              "      <td>Zimbabwe</td>\n",
              "      <td>2704</td>\n",
              "      <td>36</td>\n",
              "      <td>542</td>\n",
              "      <td>2126</td>\n",
              "      <td>192</td>\n",
              "      <td>2</td>\n",
              "      <td>24</td>\n",
              "      <td>1.33</td>\n",
              "      <td>20.04</td>\n",
              "      <td>6.64</td>\n",
              "      <td>1713</td>\n",
              "      <td>991</td>\n",
              "      <td>57.85</td>\n",
              "      <td>Africa</td>\n",
              "    </tr>\n",
              "  </tbody>\n",
              "</table>\n",
              "<p>82 rows × 15 columns</p>\n",
              "</div>"
            ],
            "text/plain": [
              "         Country/Region  Confirmed  ...  1 week % increase             WHO Region\n",
              "0           Afghanistan      36263  ...               2.07  Eastern Mediterranean\n",
              "1               Albania       4880  ...              17.00                 Europe\n",
              "2               Algeria      27973  ...              18.07                 Africa\n",
              "6             Argentina     167416  ...              28.02               Americas\n",
              "8             Australia      15303  ...              23.13        Western Pacific\n",
              "..                  ...        ...  ...                ...                    ...\n",
              "177      United Kingdom     301708  ...               1.60                 Europe\n",
              "179          Uzbekistan      21209  ...              23.67                 Europe\n",
              "180           Venezuela      15988  ...              29.63               Americas\n",
              "182  West Bank and Gaza      10621  ...              19.12  Eastern Mediterranean\n",
              "186            Zimbabwe       2704  ...              57.85                 Africa\n",
              "\n",
              "[82 rows x 15 columns]"
            ]
          },
          "metadata": {
            "tags": []
          },
          "execution_count": 32
        }
      ]
    },
    {
      "cell_type": "code",
      "metadata": {
        "id": "CgYGN6Sct_uz",
        "outputId": "b074d18e-bb3c-4a48-e3a5-81c50f3ed17b",
        "colab": {
          "base_uri": "https://localhost:8080/"
        }
      },
      "source": [
        "#WHO 지역(WHO Region)이 동남아시아인 나라 찾기\n",
        "covid['WHO Region'].unique()"
      ],
      "execution_count": 33,
      "outputs": [
        {
          "output_type": "execute_result",
          "data": {
            "text/plain": [
              "array(['Eastern Mediterranean', 'Europe', 'Africa', 'Americas',\n",
              "       'Western Pacific', 'South-East Asia'], dtype=object)"
            ]
          },
          "metadata": {
            "tags": []
          },
          "execution_count": 33
        }
      ]
    },
    {
      "cell_type": "code",
      "metadata": {
        "id": "UQP_JktauGva",
        "outputId": "fefed09f-9b63-49f9-a563-34d368fa4df8",
        "colab": {
          "base_uri": "https://localhost:8080/",
          "height": 757
        }
      },
      "source": [
        "covid[covid['WHO Region']=='South-East Asia']"
      ],
      "execution_count": 34,
      "outputs": [
        {
          "output_type": "execute_result",
          "data": {
            "text/html": [
              "<div>\n",
              "<style scoped>\n",
              "    .dataframe tbody tr th:only-of-type {\n",
              "        vertical-align: middle;\n",
              "    }\n",
              "\n",
              "    .dataframe tbody tr th {\n",
              "        vertical-align: top;\n",
              "    }\n",
              "\n",
              "    .dataframe thead th {\n",
              "        text-align: right;\n",
              "    }\n",
              "</style>\n",
              "<table border=\"1\" class=\"dataframe\">\n",
              "  <thead>\n",
              "    <tr style=\"text-align: right;\">\n",
              "      <th></th>\n",
              "      <th>Country/Region</th>\n",
              "      <th>Confirmed</th>\n",
              "      <th>Deaths</th>\n",
              "      <th>Recovered</th>\n",
              "      <th>Active</th>\n",
              "      <th>New cases</th>\n",
              "      <th>New deaths</th>\n",
              "      <th>New recovered</th>\n",
              "      <th>Deaths / 100 Cases</th>\n",
              "      <th>Recovered / 100 Cases</th>\n",
              "      <th>Deaths / 100 Recovered</th>\n",
              "      <th>Confirmed last week</th>\n",
              "      <th>1 week change</th>\n",
              "      <th>1 week % increase</th>\n",
              "      <th>WHO Region</th>\n",
              "    </tr>\n",
              "  </thead>\n",
              "  <tbody>\n",
              "    <tr>\n",
              "      <th>13</th>\n",
              "      <td>Bangladesh</td>\n",
              "      <td>226225</td>\n",
              "      <td>2965</td>\n",
              "      <td>125683</td>\n",
              "      <td>97577</td>\n",
              "      <td>2772</td>\n",
              "      <td>37</td>\n",
              "      <td>1801</td>\n",
              "      <td>1.31</td>\n",
              "      <td>55.56</td>\n",
              "      <td>2.36</td>\n",
              "      <td>207453</td>\n",
              "      <td>18772</td>\n",
              "      <td>9.05</td>\n",
              "      <td>South-East Asia</td>\n",
              "    </tr>\n",
              "    <tr>\n",
              "      <th>19</th>\n",
              "      <td>Bhutan</td>\n",
              "      <td>99</td>\n",
              "      <td>0</td>\n",
              "      <td>86</td>\n",
              "      <td>13</td>\n",
              "      <td>4</td>\n",
              "      <td>0</td>\n",
              "      <td>1</td>\n",
              "      <td>0.00</td>\n",
              "      <td>86.87</td>\n",
              "      <td>0.00</td>\n",
              "      <td>90</td>\n",
              "      <td>9</td>\n",
              "      <td>10.00</td>\n",
              "      <td>South-East Asia</td>\n",
              "    </tr>\n",
              "    <tr>\n",
              "      <th>27</th>\n",
              "      <td>Burma</td>\n",
              "      <td>350</td>\n",
              "      <td>6</td>\n",
              "      <td>292</td>\n",
              "      <td>52</td>\n",
              "      <td>0</td>\n",
              "      <td>0</td>\n",
              "      <td>2</td>\n",
              "      <td>1.71</td>\n",
              "      <td>83.43</td>\n",
              "      <td>2.05</td>\n",
              "      <td>341</td>\n",
              "      <td>9</td>\n",
              "      <td>2.64</td>\n",
              "      <td>South-East Asia</td>\n",
              "    </tr>\n",
              "    <tr>\n",
              "      <th>79</th>\n",
              "      <td>India</td>\n",
              "      <td>1480073</td>\n",
              "      <td>33408</td>\n",
              "      <td>951166</td>\n",
              "      <td>495499</td>\n",
              "      <td>44457</td>\n",
              "      <td>637</td>\n",
              "      <td>33598</td>\n",
              "      <td>2.26</td>\n",
              "      <td>64.26</td>\n",
              "      <td>3.51</td>\n",
              "      <td>1155338</td>\n",
              "      <td>324735</td>\n",
              "      <td>28.11</td>\n",
              "      <td>South-East Asia</td>\n",
              "    </tr>\n",
              "    <tr>\n",
              "      <th>80</th>\n",
              "      <td>Indonesia</td>\n",
              "      <td>100303</td>\n",
              "      <td>4838</td>\n",
              "      <td>58173</td>\n",
              "      <td>37292</td>\n",
              "      <td>1525</td>\n",
              "      <td>57</td>\n",
              "      <td>1518</td>\n",
              "      <td>4.82</td>\n",
              "      <td>58.00</td>\n",
              "      <td>8.32</td>\n",
              "      <td>88214</td>\n",
              "      <td>12089</td>\n",
              "      <td>13.70</td>\n",
              "      <td>South-East Asia</td>\n",
              "    </tr>\n",
              "    <tr>\n",
              "      <th>106</th>\n",
              "      <td>Maldives</td>\n",
              "      <td>3369</td>\n",
              "      <td>15</td>\n",
              "      <td>2547</td>\n",
              "      <td>807</td>\n",
              "      <td>67</td>\n",
              "      <td>0</td>\n",
              "      <td>19</td>\n",
              "      <td>0.45</td>\n",
              "      <td>75.60</td>\n",
              "      <td>0.59</td>\n",
              "      <td>2999</td>\n",
              "      <td>370</td>\n",
              "      <td>12.34</td>\n",
              "      <td>South-East Asia</td>\n",
              "    </tr>\n",
              "    <tr>\n",
              "      <th>119</th>\n",
              "      <td>Nepal</td>\n",
              "      <td>18752</td>\n",
              "      <td>48</td>\n",
              "      <td>13754</td>\n",
              "      <td>4950</td>\n",
              "      <td>139</td>\n",
              "      <td>3</td>\n",
              "      <td>626</td>\n",
              "      <td>0.26</td>\n",
              "      <td>73.35</td>\n",
              "      <td>0.35</td>\n",
              "      <td>17844</td>\n",
              "      <td>908</td>\n",
              "      <td>5.09</td>\n",
              "      <td>South-East Asia</td>\n",
              "    </tr>\n",
              "    <tr>\n",
              "      <th>158</th>\n",
              "      <td>Sri Lanka</td>\n",
              "      <td>2805</td>\n",
              "      <td>11</td>\n",
              "      <td>2121</td>\n",
              "      <td>673</td>\n",
              "      <td>23</td>\n",
              "      <td>0</td>\n",
              "      <td>15</td>\n",
              "      <td>0.39</td>\n",
              "      <td>75.61</td>\n",
              "      <td>0.52</td>\n",
              "      <td>2730</td>\n",
              "      <td>75</td>\n",
              "      <td>2.75</td>\n",
              "      <td>South-East Asia</td>\n",
              "    </tr>\n",
              "    <tr>\n",
              "      <th>167</th>\n",
              "      <td>Thailand</td>\n",
              "      <td>3297</td>\n",
              "      <td>58</td>\n",
              "      <td>3111</td>\n",
              "      <td>128</td>\n",
              "      <td>6</td>\n",
              "      <td>0</td>\n",
              "      <td>2</td>\n",
              "      <td>1.76</td>\n",
              "      <td>94.36</td>\n",
              "      <td>1.86</td>\n",
              "      <td>3250</td>\n",
              "      <td>47</td>\n",
              "      <td>1.45</td>\n",
              "      <td>South-East Asia</td>\n",
              "    </tr>\n",
              "    <tr>\n",
              "      <th>168</th>\n",
              "      <td>Timor-Leste</td>\n",
              "      <td>24</td>\n",
              "      <td>0</td>\n",
              "      <td>0</td>\n",
              "      <td>24</td>\n",
              "      <td>0</td>\n",
              "      <td>0</td>\n",
              "      <td>0</td>\n",
              "      <td>0.00</td>\n",
              "      <td>0.00</td>\n",
              "      <td>0.00</td>\n",
              "      <td>24</td>\n",
              "      <td>0</td>\n",
              "      <td>0.00</td>\n",
              "      <td>South-East Asia</td>\n",
              "    </tr>\n",
              "  </tbody>\n",
              "</table>\n",
              "</div>"
            ],
            "text/plain": [
              "    Country/Region  Confirmed  ...  1 week % increase       WHO Region\n",
              "13      Bangladesh     226225  ...               9.05  South-East Asia\n",
              "19          Bhutan         99  ...              10.00  South-East Asia\n",
              "27           Burma        350  ...               2.64  South-East Asia\n",
              "79           India    1480073  ...              28.11  South-East Asia\n",
              "80       Indonesia     100303  ...              13.70  South-East Asia\n",
              "106       Maldives       3369  ...              12.34  South-East Asia\n",
              "119          Nepal      18752  ...               5.09  South-East Asia\n",
              "158      Sri Lanka       2805  ...               2.75  South-East Asia\n",
              "167       Thailand       3297  ...               1.45  South-East Asia\n",
              "168    Timor-Leste         24  ...               0.00  South-East Asia\n",
              "\n",
              "[10 rows x 15 columns]"
            ]
          },
          "metadata": {
            "tags": []
          },
          "execution_count": 34
        }
      ]
    },
    {
      "cell_type": "markdown",
      "metadata": {
        "id": "lHafEYwBuTIn"
      },
      "source": [
        "###Pandas 활용 4. 행을 기준으로 데이터 접근하기"
      ]
    },
    {
      "cell_type": "code",
      "metadata": {
        "id": "GSrN8wZVuWgi",
        "outputId": "24bc1761-3366-497d-aaa4-9900853c35b4",
        "colab": {
          "base_uri": "https://localhost:8080/",
          "height": 141
        }
      },
      "source": [
        "#예시 데이터 - 도서관 정보\n",
        "books_dict={\"Available\":[True, True, False],\"Location\":[102,215,323],\"Genre\":[\"Programming\", \"Physics\",\"Math\"]}\n",
        "books_df=pd.DataFrame(books_dict, index=['버그란 무엇인가','두근두근 물리학','미분해줘 홈즈'])\n",
        "books_df"
      ],
      "execution_count": 35,
      "outputs": [
        {
          "output_type": "execute_result",
          "data": {
            "text/html": [
              "<div>\n",
              "<style scoped>\n",
              "    .dataframe tbody tr th:only-of-type {\n",
              "        vertical-align: middle;\n",
              "    }\n",
              "\n",
              "    .dataframe tbody tr th {\n",
              "        vertical-align: top;\n",
              "    }\n",
              "\n",
              "    .dataframe thead th {\n",
              "        text-align: right;\n",
              "    }\n",
              "</style>\n",
              "<table border=\"1\" class=\"dataframe\">\n",
              "  <thead>\n",
              "    <tr style=\"text-align: right;\">\n",
              "      <th></th>\n",
              "      <th>Available</th>\n",
              "      <th>Location</th>\n",
              "      <th>Genre</th>\n",
              "    </tr>\n",
              "  </thead>\n",
              "  <tbody>\n",
              "    <tr>\n",
              "      <th>버그란 무엇인가</th>\n",
              "      <td>True</td>\n",
              "      <td>102</td>\n",
              "      <td>Programming</td>\n",
              "    </tr>\n",
              "    <tr>\n",
              "      <th>두근두근 물리학</th>\n",
              "      <td>True</td>\n",
              "      <td>215</td>\n",
              "      <td>Physics</td>\n",
              "    </tr>\n",
              "    <tr>\n",
              "      <th>미분해줘 홈즈</th>\n",
              "      <td>False</td>\n",
              "      <td>323</td>\n",
              "      <td>Math</td>\n",
              "    </tr>\n",
              "  </tbody>\n",
              "</table>\n",
              "</div>"
            ],
            "text/plain": [
              "          Available  Location        Genre\n",
              "버그란 무엇인가       True       102  Programming\n",
              "두근두근 물리학       True       215      Physics\n",
              "미분해줘 홈즈       False       323         Math"
            ]
          },
          "metadata": {
            "tags": []
          },
          "execution_count": 35
        }
      ]
    },
    {
      "cell_type": "markdown",
      "metadata": {
        "id": "HdxX7Nkeu1x6"
      },
      "source": [
        "###인덱스를 이용해서 가져오기 : .loc[row, col]"
      ]
    },
    {
      "cell_type": "code",
      "metadata": {
        "id": "Qs-fSJuRu7cN",
        "outputId": "938379c4-fbe1-475b-9d4a-f41789432e04",
        "colab": {
          "base_uri": "https://localhost:8080/"
        }
      },
      "source": [
        "books_df.loc['버그란 무엇인가']"
      ],
      "execution_count": 36,
      "outputs": [
        {
          "output_type": "execute_result",
          "data": {
            "text/plain": [
              "Available           True\n",
              "Location             102\n",
              "Genre        Programming\n",
              "Name: 버그란 무엇인가, dtype: object"
            ]
          },
          "metadata": {
            "tags": []
          },
          "execution_count": 36
        }
      ]
    },
    {
      "cell_type": "code",
      "metadata": {
        "id": "bvbjT7Wwu-6a",
        "outputId": "ed3f2a81-afb8-4925-e615-b73c2ecb4d08",
        "colab": {
          "base_uri": "https://localhost:8080/"
        }
      },
      "source": [
        "#미분해줘 홈즈 책이 대출가능??\n",
        "books_df.loc[\"미분해줘 홈즈\", 'Available']"
      ],
      "execution_count": 37,
      "outputs": [
        {
          "output_type": "execute_result",
          "data": {
            "text/plain": [
              "False"
            ]
          },
          "metadata": {
            "tags": []
          },
          "execution_count": 37
        }
      ]
    },
    {
      "cell_type": "markdown",
      "metadata": {
        "id": "QRsqbE8UvMdb"
      },
      "source": [
        "###숫자 인덱스를 이용해서 가져오기 : .iloc[rowindex, colindex]"
      ]
    },
    {
      "cell_type": "code",
      "metadata": {
        "id": "OiCi4GS0vRm-",
        "outputId": "2ed5ebb3-db00-4324-a7d9-461d489887dc",
        "colab": {
          "base_uri": "https://localhost:8080/"
        }
      },
      "source": [
        "#인덱스 0행의 인덱스 1열 가지고 오기\n",
        "books_df.iloc[0,1]"
      ],
      "execution_count": 38,
      "outputs": [
        {
          "output_type": "execute_result",
          "data": {
            "text/plain": [
              "102"
            ]
          },
          "metadata": {
            "tags": []
          },
          "execution_count": 38
        }
      ]
    },
    {
      "cell_type": "code",
      "metadata": {
        "id": "tk2jfbapvW2D",
        "outputId": "15ee7aad-814f-4ed3-a220-c047028975c6",
        "colab": {
          "base_uri": "https://localhost:8080/"
        }
      },
      "source": [
        "#인덱스 1행의 인덱스 0~1열 가지고 오기\n",
        "books_df.iloc[1,0:2]"
      ],
      "execution_count": 39,
      "outputs": [
        {
          "output_type": "execute_result",
          "data": {
            "text/plain": [
              "Available    True\n",
              "Location      215\n",
              "Name: 두근두근 물리학, dtype: object"
            ]
          },
          "metadata": {
            "tags": []
          },
          "execution_count": 39
        }
      ]
    },
    {
      "cell_type": "markdown",
      "metadata": {
        "id": "wqECN1iwvc4N"
      },
      "source": [
        "###Pandas 활용 5. groupby\n",
        "- Split : 특정한 \"기준\"을 바탕으로 DataFrame을 분할\n",
        "- Apply : 통계함수 : sum(), mean(), median(), -을 적용해서 각 데이터를 압축\n",
        "- Combine : Apply된 결과를 바탕으로 새로운 Series를 생성(group_key : applied_value)\n",
        "\n",
        ".groupby()"
      ]
    },
    {
      "cell_type": "code",
      "metadata": {
        "id": "Odd5u18XvzIc",
        "outputId": "8a396466-d944-4e0f-fe75-8af769007dc3",
        "colab": {
          "base_uri": "https://localhost:8080/",
          "height": 274
        }
      },
      "source": [
        "covid.head(5)"
      ],
      "execution_count": 40,
      "outputs": [
        {
          "output_type": "execute_result",
          "data": {
            "text/html": [
              "<div>\n",
              "<style scoped>\n",
              "    .dataframe tbody tr th:only-of-type {\n",
              "        vertical-align: middle;\n",
              "    }\n",
              "\n",
              "    .dataframe tbody tr th {\n",
              "        vertical-align: top;\n",
              "    }\n",
              "\n",
              "    .dataframe thead th {\n",
              "        text-align: right;\n",
              "    }\n",
              "</style>\n",
              "<table border=\"1\" class=\"dataframe\">\n",
              "  <thead>\n",
              "    <tr style=\"text-align: right;\">\n",
              "      <th></th>\n",
              "      <th>Country/Region</th>\n",
              "      <th>Confirmed</th>\n",
              "      <th>Deaths</th>\n",
              "      <th>Recovered</th>\n",
              "      <th>Active</th>\n",
              "      <th>New cases</th>\n",
              "      <th>New deaths</th>\n",
              "      <th>New recovered</th>\n",
              "      <th>Deaths / 100 Cases</th>\n",
              "      <th>Recovered / 100 Cases</th>\n",
              "      <th>Deaths / 100 Recovered</th>\n",
              "      <th>Confirmed last week</th>\n",
              "      <th>1 week change</th>\n",
              "      <th>1 week % increase</th>\n",
              "      <th>WHO Region</th>\n",
              "    </tr>\n",
              "  </thead>\n",
              "  <tbody>\n",
              "    <tr>\n",
              "      <th>0</th>\n",
              "      <td>Afghanistan</td>\n",
              "      <td>36263</td>\n",
              "      <td>1269</td>\n",
              "      <td>25198</td>\n",
              "      <td>9796</td>\n",
              "      <td>106</td>\n",
              "      <td>10</td>\n",
              "      <td>18</td>\n",
              "      <td>3.50</td>\n",
              "      <td>69.49</td>\n",
              "      <td>5.04</td>\n",
              "      <td>35526</td>\n",
              "      <td>737</td>\n",
              "      <td>2.07</td>\n",
              "      <td>Eastern Mediterranean</td>\n",
              "    </tr>\n",
              "    <tr>\n",
              "      <th>1</th>\n",
              "      <td>Albania</td>\n",
              "      <td>4880</td>\n",
              "      <td>144</td>\n",
              "      <td>2745</td>\n",
              "      <td>1991</td>\n",
              "      <td>117</td>\n",
              "      <td>6</td>\n",
              "      <td>63</td>\n",
              "      <td>2.95</td>\n",
              "      <td>56.25</td>\n",
              "      <td>5.25</td>\n",
              "      <td>4171</td>\n",
              "      <td>709</td>\n",
              "      <td>17.00</td>\n",
              "      <td>Europe</td>\n",
              "    </tr>\n",
              "    <tr>\n",
              "      <th>2</th>\n",
              "      <td>Algeria</td>\n",
              "      <td>27973</td>\n",
              "      <td>1163</td>\n",
              "      <td>18837</td>\n",
              "      <td>7973</td>\n",
              "      <td>616</td>\n",
              "      <td>8</td>\n",
              "      <td>749</td>\n",
              "      <td>4.16</td>\n",
              "      <td>67.34</td>\n",
              "      <td>6.17</td>\n",
              "      <td>23691</td>\n",
              "      <td>4282</td>\n",
              "      <td>18.07</td>\n",
              "      <td>Africa</td>\n",
              "    </tr>\n",
              "    <tr>\n",
              "      <th>3</th>\n",
              "      <td>Andorra</td>\n",
              "      <td>907</td>\n",
              "      <td>52</td>\n",
              "      <td>803</td>\n",
              "      <td>52</td>\n",
              "      <td>10</td>\n",
              "      <td>0</td>\n",
              "      <td>0</td>\n",
              "      <td>5.73</td>\n",
              "      <td>88.53</td>\n",
              "      <td>6.48</td>\n",
              "      <td>884</td>\n",
              "      <td>23</td>\n",
              "      <td>2.60</td>\n",
              "      <td>Europe</td>\n",
              "    </tr>\n",
              "    <tr>\n",
              "      <th>4</th>\n",
              "      <td>Angola</td>\n",
              "      <td>950</td>\n",
              "      <td>41</td>\n",
              "      <td>242</td>\n",
              "      <td>667</td>\n",
              "      <td>18</td>\n",
              "      <td>1</td>\n",
              "      <td>0</td>\n",
              "      <td>4.32</td>\n",
              "      <td>25.47</td>\n",
              "      <td>16.94</td>\n",
              "      <td>749</td>\n",
              "      <td>201</td>\n",
              "      <td>26.84</td>\n",
              "      <td>Africa</td>\n",
              "    </tr>\n",
              "  </tbody>\n",
              "</table>\n",
              "</div>"
            ],
            "text/plain": [
              "  Country/Region  Confirmed  ...  1 week % increase             WHO Region\n",
              "0    Afghanistan      36263  ...               2.07  Eastern Mediterranean\n",
              "1        Albania       4880  ...              17.00                 Europe\n",
              "2        Algeria      27973  ...              18.07                 Africa\n",
              "3        Andorra        907  ...               2.60                 Europe\n",
              "4         Angola        950  ...              26.84                 Africa\n",
              "\n",
              "[5 rows x 15 columns]"
            ]
          },
          "metadata": {
            "tags": []
          },
          "execution_count": 40
        }
      ]
    },
    {
      "cell_type": "code",
      "metadata": {
        "id": "pGmlABqDv1n1",
        "outputId": "083fbd9f-91e2-460c-9ad4-8879dd9ffe9f",
        "colab": {
          "base_uri": "https://localhost:8080/"
        }
      },
      "source": [
        "#WHO Region 별 확진자 수\n",
        "\n",
        "#1. covid에서 확진자 수 column만 추출한다\n",
        "#2. 이를 covid의 WHO Region을 기준으로 groupby한다\n",
        "\n",
        "covid_by_region=covid['Confirmed'].groupby(by=covid[\"WHO Region\"])\n",
        "covid_by_region"
      ],
      "execution_count": 41,
      "outputs": [
        {
          "output_type": "execute_result",
          "data": {
            "text/plain": [
              "<pandas.core.groupby.generic.SeriesGroupBy object at 0x7ffa2755ac50>"
            ]
          },
          "metadata": {
            "tags": []
          },
          "execution_count": 41
        }
      ]
    },
    {
      "cell_type": "code",
      "metadata": {
        "id": "95nzxJlRwMbU",
        "outputId": "5e5d0a89-e755-4b95-d664-f03e96aeae82",
        "colab": {
          "base_uri": "https://localhost:8080/"
        }
      },
      "source": [
        "covid_by_region.sum()"
      ],
      "execution_count": 42,
      "outputs": [
        {
          "output_type": "execute_result",
          "data": {
            "text/plain": [
              "WHO Region\n",
              "Africa                    723207\n",
              "Americas                 8839286\n",
              "Eastern Mediterranean    1490744\n",
              "Europe                   3299523\n",
              "South-East Asia          1835297\n",
              "Western Pacific           292428\n",
              "Name: Confirmed, dtype: int64"
            ]
          },
          "metadata": {
            "tags": []
          },
          "execution_count": 42
        }
      ]
    },
    {
      "cell_type": "code",
      "metadata": {
        "id": "dlEh8EhPwP5f",
        "outputId": "2734a0d5-a035-4f30-b7c5-64d85399ced9",
        "colab": {
          "base_uri": "https://localhost:8080/"
        }
      },
      "source": [
        "#국가당 감염자 수\n",
        "covid_by_region.mean()  #sum()/국가수"
      ],
      "execution_count": 43,
      "outputs": [
        {
          "output_type": "execute_result",
          "data": {
            "text/plain": [
              "WHO Region\n",
              "Africa                    15066.812500\n",
              "Americas                 252551.028571\n",
              "Eastern Mediterranean     67761.090909\n",
              "Europe                    58920.053571\n",
              "South-East Asia          183529.700000\n",
              "Western Pacific           18276.750000\n",
              "Name: Confirmed, dtype: float64"
            ]
          },
          "metadata": {
            "tags": []
          },
          "execution_count": 43
        }
      ]
    },
    {
      "cell_type": "markdown",
      "metadata": {
        "id": "mkIOdm7lMPDF"
      },
      "source": [
        "## Mission:\n",
        "### 1. covid 데이터에서 100 case 대비 사망률(`Deaths / 100 Cases`)이 가장 높은 국가는?"
      ]
    },
    {
      "cell_type": "code",
      "metadata": {
        "id": "LyqjgaCvMPDF",
        "outputId": "2560b85e-5a37-4724-ea82-363491ea8ad7",
        "colab": {
          "base_uri": "https://localhost:8080/"
        }
      },
      "source": [
        "covid[covid['Deaths / 100 Cases']==covid['Deaths / 100 Cases'].max()]['Country/Region']"
      ],
      "execution_count": 48,
      "outputs": [
        {
          "output_type": "execute_result",
          "data": {
            "text/plain": [
              "184    Yemen\n",
              "Name: Country/Region, dtype: object"
            ]
          },
          "metadata": {
            "tags": []
          },
          "execution_count": 48
        }
      ]
    },
    {
      "cell_type": "markdown",
      "metadata": {
        "id": "u79e9-ZUMPDG"
      },
      "source": [
        "### 2. covid 데이터에서 신규 확진자가 없는 나라 중 WHO Region이 'Europe'를 모두 출력하면?  \n",
        "Hint : 한 줄에 동시에 두가지 조건을 Apply하는 경우 Warning이 발생할 수 있습니다."
      ]
    },
    {
      "cell_type": "code",
      "metadata": {
        "id": "XXG0lsV8MPDG",
        "outputId": "47c0cbb2-3a41-4c13-868f-f98db85452c2",
        "colab": {
          "base_uri": "https://localhost:8080/",
          "height": 318
        }
      },
      "source": [
        "arr=covid[covid['New cases']==0]\n",
        "arr[arr['WHO Region']=='Europe']"
      ],
      "execution_count": 49,
      "outputs": [
        {
          "output_type": "execute_result",
          "data": {
            "text/html": [
              "<div>\n",
              "<style scoped>\n",
              "    .dataframe tbody tr th:only-of-type {\n",
              "        vertical-align: middle;\n",
              "    }\n",
              "\n",
              "    .dataframe tbody tr th {\n",
              "        vertical-align: top;\n",
              "    }\n",
              "\n",
              "    .dataframe thead th {\n",
              "        text-align: right;\n",
              "    }\n",
              "</style>\n",
              "<table border=\"1\" class=\"dataframe\">\n",
              "  <thead>\n",
              "    <tr style=\"text-align: right;\">\n",
              "      <th></th>\n",
              "      <th>Country/Region</th>\n",
              "      <th>Confirmed</th>\n",
              "      <th>Deaths</th>\n",
              "      <th>Recovered</th>\n",
              "      <th>Active</th>\n",
              "      <th>New cases</th>\n",
              "      <th>New deaths</th>\n",
              "      <th>New recovered</th>\n",
              "      <th>Deaths / 100 Cases</th>\n",
              "      <th>Recovered / 100 Cases</th>\n",
              "      <th>Deaths / 100 Recovered</th>\n",
              "      <th>Confirmed last week</th>\n",
              "      <th>1 week change</th>\n",
              "      <th>1 week % increase</th>\n",
              "      <th>WHO Region</th>\n",
              "    </tr>\n",
              "  </thead>\n",
              "  <tbody>\n",
              "    <tr>\n",
              "      <th>56</th>\n",
              "      <td>Estonia</td>\n",
              "      <td>2034</td>\n",
              "      <td>69</td>\n",
              "      <td>1923</td>\n",
              "      <td>42</td>\n",
              "      <td>0</td>\n",
              "      <td>0</td>\n",
              "      <td>1</td>\n",
              "      <td>3.39</td>\n",
              "      <td>94.54</td>\n",
              "      <td>3.59</td>\n",
              "      <td>2021</td>\n",
              "      <td>13</td>\n",
              "      <td>0.64</td>\n",
              "      <td>Europe</td>\n",
              "    </tr>\n",
              "    <tr>\n",
              "      <th>75</th>\n",
              "      <td>Holy See</td>\n",
              "      <td>12</td>\n",
              "      <td>0</td>\n",
              "      <td>12</td>\n",
              "      <td>0</td>\n",
              "      <td>0</td>\n",
              "      <td>0</td>\n",
              "      <td>0</td>\n",
              "      <td>0.00</td>\n",
              "      <td>100.00</td>\n",
              "      <td>0.00</td>\n",
              "      <td>12</td>\n",
              "      <td>0</td>\n",
              "      <td>0.00</td>\n",
              "      <td>Europe</td>\n",
              "    </tr>\n",
              "    <tr>\n",
              "      <th>95</th>\n",
              "      <td>Latvia</td>\n",
              "      <td>1219</td>\n",
              "      <td>31</td>\n",
              "      <td>1045</td>\n",
              "      <td>143</td>\n",
              "      <td>0</td>\n",
              "      <td>0</td>\n",
              "      <td>0</td>\n",
              "      <td>2.54</td>\n",
              "      <td>85.73</td>\n",
              "      <td>2.97</td>\n",
              "      <td>1192</td>\n",
              "      <td>27</td>\n",
              "      <td>2.27</td>\n",
              "      <td>Europe</td>\n",
              "    </tr>\n",
              "    <tr>\n",
              "      <th>100</th>\n",
              "      <td>Liechtenstein</td>\n",
              "      <td>86</td>\n",
              "      <td>1</td>\n",
              "      <td>81</td>\n",
              "      <td>4</td>\n",
              "      <td>0</td>\n",
              "      <td>0</td>\n",
              "      <td>0</td>\n",
              "      <td>1.16</td>\n",
              "      <td>94.19</td>\n",
              "      <td>1.23</td>\n",
              "      <td>86</td>\n",
              "      <td>0</td>\n",
              "      <td>0.00</td>\n",
              "      <td>Europe</td>\n",
              "    </tr>\n",
              "    <tr>\n",
              "      <th>113</th>\n",
              "      <td>Monaco</td>\n",
              "      <td>116</td>\n",
              "      <td>4</td>\n",
              "      <td>104</td>\n",
              "      <td>8</td>\n",
              "      <td>0</td>\n",
              "      <td>0</td>\n",
              "      <td>0</td>\n",
              "      <td>3.45</td>\n",
              "      <td>89.66</td>\n",
              "      <td>3.85</td>\n",
              "      <td>109</td>\n",
              "      <td>7</td>\n",
              "      <td>6.42</td>\n",
              "      <td>Europe</td>\n",
              "    </tr>\n",
              "    <tr>\n",
              "      <th>143</th>\n",
              "      <td>San Marino</td>\n",
              "      <td>699</td>\n",
              "      <td>42</td>\n",
              "      <td>657</td>\n",
              "      <td>0</td>\n",
              "      <td>0</td>\n",
              "      <td>0</td>\n",
              "      <td>0</td>\n",
              "      <td>6.01</td>\n",
              "      <td>93.99</td>\n",
              "      <td>6.39</td>\n",
              "      <td>699</td>\n",
              "      <td>0</td>\n",
              "      <td>0.00</td>\n",
              "      <td>Europe</td>\n",
              "    </tr>\n",
              "    <tr>\n",
              "      <th>157</th>\n",
              "      <td>Spain</td>\n",
              "      <td>272421</td>\n",
              "      <td>28432</td>\n",
              "      <td>150376</td>\n",
              "      <td>93613</td>\n",
              "      <td>0</td>\n",
              "      <td>0</td>\n",
              "      <td>0</td>\n",
              "      <td>10.44</td>\n",
              "      <td>55.20</td>\n",
              "      <td>18.91</td>\n",
              "      <td>264836</td>\n",
              "      <td>7585</td>\n",
              "      <td>2.86</td>\n",
              "      <td>Europe</td>\n",
              "    </tr>\n",
              "  </tbody>\n",
              "</table>\n",
              "</div>"
            ],
            "text/plain": [
              "    Country/Region  Confirmed  ...  1 week % increase  WHO Region\n",
              "56         Estonia       2034  ...               0.64      Europe\n",
              "75        Holy See         12  ...               0.00      Europe\n",
              "95          Latvia       1219  ...               2.27      Europe\n",
              "100  Liechtenstein         86  ...               0.00      Europe\n",
              "113         Monaco        116  ...               6.42      Europe\n",
              "143     San Marino        699  ...               0.00      Europe\n",
              "157          Spain     272421  ...               2.86      Europe\n",
              "\n",
              "[7 rows x 15 columns]"
            ]
          },
          "metadata": {
            "tags": []
          },
          "execution_count": 49
        }
      ]
    },
    {
      "cell_type": "markdown",
      "metadata": {
        "id": "uR9rQCKBMPDG"
      },
      "source": [
        "### 3. 다음 [데이터](https://www.kaggle.com/neuromusic/avocado-prices)를 이용해 각 Region별로 아보카도가 가장 비싼 평균가격(AveragePrice)을 출력하면?"
      ]
    },
    {
      "cell_type": "code",
      "metadata": {
        "id": "1brBLMCRMPDH",
        "outputId": "90dcf883-8d02-43b5-f503-da45376afdcd",
        "colab": {
          "base_uri": "https://localhost:8080/"
        }
      },
      "source": [
        "avocado=pd.read_csv(\"./avocado.csv\")\n",
        "avocado.head()\n",
        "\n",
        "avocado_max_averageprice=avocado['AveragePrice'].groupby(by=avocado[\"region\"])\n",
        "avocado_max_averageprice.max()"
      ],
      "execution_count": 54,
      "outputs": [
        {
          "output_type": "execute_result",
          "data": {
            "text/plain": [
              "region\n",
              "Albany                 2.13\n",
              "Atlanta                2.75\n",
              "BaltimoreWashington    2.28\n",
              "Boise                  2.79\n",
              "Boston                 2.19\n",
              "BuffaloRochester       2.57\n",
              "California             2.58\n",
              "Charlotte              2.83\n",
              "Chicago                2.30\n",
              "CincinnatiDayton       2.20\n",
              "Columbus               2.22\n",
              "DallasFtWorth          1.90\n",
              "Denver                 2.16\n",
              "Detroit                2.08\n",
              "GrandRapids            2.73\n",
              "GreatLakes             1.98\n",
              "HarrisburgScranton     2.27\n",
              "HartfordSpringfield    2.68\n",
              "Houston                1.92\n",
              "Indianapolis           2.10\n",
              "Jacksonville           2.99\n",
              "LasVegas               3.03\n",
              "LosAngeles             2.44\n",
              "Louisville             2.29\n",
              "MiamiFtLauderdale      3.05\n",
              "Midsouth               2.17\n",
              "Nashville              2.24\n",
              "NewOrleansMobile       2.32\n",
              "NewYork                2.65\n",
              "Northeast              2.31\n",
              "NorthernNewEngland     1.96\n",
              "Orlando                2.87\n",
              "Philadelphia           2.45\n",
              "PhoenixTucson          2.62\n",
              "Pittsburgh             1.83\n",
              "Plains                 2.13\n",
              "Portland               2.86\n",
              "RaleighGreensboro      3.04\n",
              "RichmondNorfolk        2.05\n",
              "Roanoke                2.27\n",
              "Sacramento             2.82\n",
              "SanDiego               2.74\n",
              "SanFrancisco           3.25\n",
              "Seattle                2.96\n",
              "SouthCarolina          2.21\n",
              "SouthCentral           1.81\n",
              "Southeast              2.33\n",
              "Spokane                2.95\n",
              "StLouis                2.84\n",
              "Syracuse               2.44\n",
              "Tampa                  3.17\n",
              "TotalUS                2.09\n",
              "West                   2.52\n",
              "WestTexNewMexico       2.93\n",
              "Name: AveragePrice, dtype: float64"
            ]
          },
          "metadata": {
            "tags": []
          },
          "execution_count": 54
        }
      ]
    }
  ]
}