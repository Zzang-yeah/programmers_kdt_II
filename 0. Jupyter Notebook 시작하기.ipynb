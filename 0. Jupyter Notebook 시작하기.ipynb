{
  "nbformat": 4,
  "nbformat_minor": 0,
  "metadata": {
    "kernelspec": {
      "display_name": "Python 3",
      "language": "python",
      "name": "python3"
    },
    "language_info": {
      "codemirror_mode": {
        "name": "ipython",
        "version": 3
      },
      "file_extension": ".py",
      "mimetype": "text/x-python",
      "name": "python",
      "nbconvert_exporter": "python",
      "pygments_lexer": "ipython3",
      "version": "3.9.0"
    },
    "colab": {
      "name": "0. Jupyter Notebook 시작하기.ipynb",
      "provenance": []
    }
  },
  "cells": [
    {
      "cell_type": "markdown",
      "metadata": {
        "id": "db7dG7uNWY-9"
      },
      "source": [
        "# 0. Jupyter Notebook 시작하기\n",
        "**Jupyter Notebook을 사용해 Python 프로그래밍을 진행해봅시다.**"
      ]
    },
    {
      "cell_type": "markdown",
      "metadata": {
        "id": "WJZQxtLdWY_W"
      },
      "source": [
        "1. Jupyter Notebook의 단축키 익히기  \n",
        "    - Esc : 명령 모드\n",
        "        - **Y** : Code Cell\n",
        "        - **M** : Markdown Cell\n",
        "        - **A** : 현재 셀 위에 셀 만들기\n",
        "        - **B** : 현재 셀 아래에 셀 만들기\n",
        "        - **dd** : 현재 셀 삭제하기\n",
        "    - Enter : 편집 모드\n",
        "    - ctrl(cmd) + Enter : 셀 실행하기(Code) / 형식 반영하기(Markdown) \n",
        "2. Markdown\n",
        "    - Header : #, ##, ###  \n",
        "    - *italic* : _, *  \n",
        "    - **bold** : __, **\n",
        "    - ~strikethrough~ : ~\n",
        "    - unordered list : -, ...\n",
        "    - ordered list : 1. "
      ]
    },
    {
      "cell_type": "markdown",
      "metadata": {
        "id": "ZDS34SkUWY_Z"
      },
      "source": [
        "----"
      ]
    },
    {
      "cell_type": "markdown",
      "metadata": {
        "id": "oqPVPzOFWY_a"
      },
      "source": [
        "## Jupyter Notebook Tutorial\n",
        "\n",
        "**마우스 없이 키보드만으로 아래 미션들을 해결해봅시다!**"
      ]
    },
    {
      "cell_type": "markdown",
      "metadata": {
        "id": "ZDjb1ar2WY_b"
      },
      "source": [
        "### Mission 1\n",
        "Code Mode로 이 셀 **아래**에 Python Code로 Hello World!를 출력해봅시다."
      ]
    },
    {
      "cell_type": "code",
      "metadata": {
        "id": "01X_8GpEtU_n",
        "outputId": "b2cca9a7-7946-4f19-fc5e-826ee4fdc10c",
        "colab": {
          "base_uri": "https://localhost:8080/"
        }
      },
      "source": [
        "print(\"Hello World!\")"
      ],
      "execution_count": 4,
      "outputs": [
        {
          "output_type": "stream",
          "text": [
            "Hello World!\n"
          ],
          "name": "stdout"
        }
      ]
    },
    {
      "cell_type": "markdown",
      "metadata": {
        "id": "7EBfMKmNWY_d"
      },
      "source": [
        "----"
      ]
    },
    {
      "cell_type": "markdown",
      "metadata": {
        "id": "ZV_DuIL8WY_e"
      },
      "source": [
        "### Mission 2\n",
        "Edit Mode로 이 셀 **위**에 자기소개 글을 적어봅시다."
      ]
    },
    {
      "cell_type": "markdown",
      "metadata": {
        "id": "QL221mNwtZBl"
      },
      "source": [
        "#자기소개\n",
        "안녕하세요 프로그래머스 인공지능 2기 A반 한예지입니다    \n",
        "지금 손가락을 다쳐서 타자치기가 힘드네요 헣"
      ]
    },
    {
      "cell_type": "markdown",
      "metadata": {
        "id": "sp7dLyiIWY_f"
      },
      "source": [
        "----"
      ]
    },
    {
      "cell_type": "markdown",
      "metadata": {
        "id": "Vm1ZJa2vWY_g"
      },
      "source": [
        "### Mission 3\n",
        "아래 Cell의 속성을 바꿔서 파이썬 코드가 잘 실행되게 해주세요!"
      ]
    },
    {
      "cell_type": "code",
      "metadata": {
        "id": "OMnXADW-WY_h",
        "outputId": "64323858-63b1-46b6-bf81-528448f2fd74",
        "colab": {
          "base_uri": "https://localhost:8080/"
        }
      },
      "source": [
        "import random as rand  \n",
        "print(rand.randint(0, 10))"
      ],
      "execution_count": 3,
      "outputs": [
        {
          "output_type": "stream",
          "text": [
            "5\n"
          ],
          "name": "stdout"
        }
      ]
    },
    {
      "cell_type": "markdown",
      "metadata": {
        "id": "0g_Lnr-iWY_j"
      },
      "source": [
        "----"
      ]
    },
    {
      "cell_type": "markdown",
      "metadata": {
        "id": "Zp9Ll1FTWY_l"
      },
      "source": [
        "## Mission 4\n",
        "\n",
        "출출한 야심한 밤, 라면을 끓여먹으려고 합니다.\n",
        "이를 함께 준비해볼까요?\n",
        "\n",
        "### 4.1\n",
        "라면 먹고 싶은 마음이 너무 큰 우리, 아래에 셀을 추가하고, **헤더 1 크기**의 큰 글씨로 \"라면먹고싶다!\"를 적어봅시다."
      ]
    },
    {
      "cell_type": "markdown",
      "metadata": {
        "id": "K4Lfjgi4WY_m"
      },
      "source": [
        "### 4.2\n",
        "어떤 라면을 먹고 싶으신가요? 여러분이 먹고 싶은 라면을 아래 셀을 추가하고 다음과 같이 *italic* 체와 함께 적어봅시다.  \n",
        "ex) 나는 *불닭볶음면* 이 땡긴다..."
      ]
    },
    {
      "cell_type": "markdown",
      "metadata": {
        "id": "P1zzAExRWY_n"
      },
      "source": [
        "### 4.3\n",
        "아래 셀에는 라면을 만들 때 쓸 재료들이 있습니다.  \n",
        "1. 재료들을 unordered list로 만들어봅시다.\n",
        "2. 꼭 넣어야 하는 재료는 **bold** 처리를 해줍시다.\n",
        "3. 넣지 말아야하는 재료는 ~strikethrough~ 처리를 해줍시다."
      ]
    },
    {
      "cell_type": "markdown",
      "metadata": {
        "id": "eVwyb3rLWY_o"
      },
      "source": [
        "물   \n",
        "라면 스프  \n",
        "라면  \n",
        "계란  \n",
        "치즈  \n",
        "홍삼  \n",
        "아메리카노  "
      ]
    },
    {
      "cell_type": "markdown",
      "metadata": {
        "id": "kXsq0P2XWY_p"
      },
      "source": [
        "### 4.4  \n",
        "아래 셀에는 라면을 끓이는 순서가 뒤죽박죽 나열되어있습니다.  \n",
        "순서에 맞게 이를 ordered list로 만들어주세요.  \n",
        "(이 Mission에서는 마우스를 사용해도 됩니다!)"
      ]
    },
    {
      "cell_type": "markdown",
      "metadata": {
        "id": "he0K6vOdWY_q"
      },
      "source": [
        "면이 다 익었을 때 즈음 추가 재료들을 넣어준다.  \n",
        "냄비에 물을 올리고 불을 켠다.  \n",
        "불을 끄고, 맛있게 먹는다!  \n",
        "끓는 물에 라면과 라면 스프를 넣는다.  "
      ]
    },
    {
      "cell_type": "markdown",
      "metadata": {
        "id": "4GnB5ybbWY_q"
      },
      "source": [
        "----"
      ]
    }
  ]
}